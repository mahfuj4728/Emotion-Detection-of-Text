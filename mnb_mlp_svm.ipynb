{
  "cells": [
    {
      "cell_type": "markdown",
      "metadata": {
        "id": "view-in-github",
        "colab_type": "text"
      },
      "source": [
        "<a href=\"https://colab.research.google.com/github/mahfuj4728/Emotion-Detection-of-Text/blob/main/mnb_mlp_svm.ipynb\" target=\"_parent\"><img src=\"https://colab.research.google.com/assets/colab-badge.svg\" alt=\"Open In Colab\"/></a>"
      ]
    },
    {
      "cell_type": "code",
      "execution_count": null,
      "id": "c37b3545",
      "metadata": {
        "execution": {
          "iopub.execute_input": "2023-11-19T00:10:12.626036Z",
          "iopub.status.busy": "2023-11-19T00:10:12.625565Z",
          "iopub.status.idle": "2023-11-19T00:10:34.743959Z",
          "shell.execute_reply": "2023-11-19T00:10:34.742681Z"
        },
        "papermill": {
          "duration": 22.136671,
          "end_time": "2023-11-19T00:10:34.746932",
          "exception": false,
          "start_time": "2023-11-19T00:10:12.610261",
          "status": "completed"
        },
        "tags": [],
        "colab": {
          "base_uri": "https://localhost:8080/"
        },
        "id": "c37b3545",
        "outputId": "db6be7c0-9835-46d3-c694-a9fe918a6988"
      },
      "outputs": [
        {
          "output_type": "stream",
          "name": "stdout",
          "text": [
            "Name: nltk\n",
            "Version: 3.8.1\n",
            "Summary: Natural Language Toolkit\n",
            "Home-page: https://www.nltk.org/\n",
            "Author: NLTK Team\n",
            "Author-email: nltk.team@gmail.com\n",
            "License: Apache License, Version 2.0\n",
            "Location: /usr/local/lib/python3.10/dist-packages\n",
            "Requires: click, joblib, regex, tqdm\n",
            "Required-by: textblob\n",
            "Requirement already satisfied: nltk in /usr/local/lib/python3.10/dist-packages (3.8.1)\n",
            "Requirement already satisfied: click in /usr/local/lib/python3.10/dist-packages (from nltk) (8.1.7)\n",
            "Requirement already satisfied: joblib in /usr/local/lib/python3.10/dist-packages (from nltk) (1.3.2)\n",
            "Requirement already satisfied: regex>=2021.8.3 in /usr/local/lib/python3.10/dist-packages (from nltk) (2023.6.3)\n",
            "Requirement already satisfied: tqdm in /usr/local/lib/python3.10/dist-packages (from nltk) (4.66.1)\n"
          ]
        }
      ],
      "source": [
        "!pip show nltk\n",
        "!pip install --upgrade nltk"
      ]
    },
    {
      "cell_type": "code",
      "execution_count": null,
      "id": "c02457cf",
      "metadata": {
        "execution": {
          "iopub.execute_input": "2023-11-19T00:10:34.781043Z",
          "iopub.status.busy": "2023-11-19T00:10:34.780644Z",
          "iopub.status.idle": "2023-11-19T00:10:46.629586Z",
          "shell.execute_reply": "2023-11-19T00:10:46.626867Z"
        },
        "papermill": {
          "duration": 11.869939,
          "end_time": "2023-11-19T00:10:46.632644",
          "exception": false,
          "start_time": "2023-11-19T00:10:34.762705",
          "status": "completed"
        },
        "tags": [],
        "colab": {
          "base_uri": "https://localhost:8080/"
        },
        "id": "c02457cf",
        "outputId": "fa6d49f2-9246-429a-fb3c-1c5a639d5c05"
      },
      "outputs": [
        {
          "output_type": "stream",
          "name": "stdout",
          "text": [
            "Requirement already satisfied: stop_words in /usr/local/lib/python3.10/dist-packages (2018.7.23)\n"
          ]
        },
        {
          "output_type": "stream",
          "name": "stderr",
          "text": [
            "[nltk_data] Downloading package stopwords to /root/nltk_data...\n",
            "[nltk_data]   Package stopwords is already up-to-date!\n",
            "[nltk_data] Downloading package wordnet to /root/nltk_data...\n",
            "[nltk_data]   Package wordnet is already up-to-date!\n",
            "[nltk_data] Downloading package omw-1.4 to /root/nltk_data...\n",
            "[nltk_data]   Package omw-1.4 is already up-to-date!\n",
            "[nltk_data] Downloading package punkt to /root/nltk_data...\n",
            "[nltk_data]   Package punkt is already up-to-date!\n"
          ]
        }
      ],
      "source": [
        "import pandas as pd\n",
        "import numpy as np\n",
        "\n",
        "import re\n",
        "import nltk\n",
        "from nltk.stem import PorterStemmer\n",
        "from nltk.stem import WordNetLemmatizer\n",
        "from sklearn.datasets import load_files\n",
        "!pip install stop_words\n",
        "nltk.download('stopwords')\n",
        "import pickle\n",
        "\n",
        "from nltk.corpus import stopwords\n",
        "nltk.download('wordnet')\n",
        "nltk.download('omw-1.4')\n",
        "nltk.download('punkt')\n",
        "from nltk.tokenize import sent_tokenize\n",
        "\n",
        "from sklearn.model_selection import train_test_split\n",
        "from sklearn.feature_extraction.text import TfidfTransformer\n",
        "from sklearn.feature_extraction.text import CountVectorizer, TfidfVectorizer\n",
        "\n",
        "from sklearn.naive_bayes import MultinomialNB\n",
        "from sklearn.metrics import classification_report, accuracy_score, confusion_matrix\n",
        "from sklearn.model_selection import cross_val_predict, StratifiedKFold\n",
        "from sklearn.neural_network import MLPClassifier\n",
        "import matplotlib.pyplot as plt\n",
        "from sklearn.metrics import accuracy_score, precision_score, recall_score, f1_score, confusion_matrix, classification_report\n",
        "\n",
        "from sklearn.pipeline import Pipeline\n",
        "from sklearn.svm import SVC\n",
        "import matplotlib.pyplot as plt"
      ]
    },
    {
      "cell_type": "code",
      "source": [
        "from google.colab import drive\n",
        "drive.mount('/content/drive')"
      ],
      "metadata": {
        "colab": {
          "base_uri": "https://localhost:8080/"
        },
        "id": "LAuDsGU8-KM6",
        "outputId": "f7241e05-f6f4-4061-dcea-7420c7baf763"
      },
      "id": "LAuDsGU8-KM6",
      "execution_count": null,
      "outputs": [
        {
          "output_type": "stream",
          "name": "stdout",
          "text": [
            "Mounted at /content/drive\n"
          ]
        }
      ]
    },
    {
      "cell_type": "code",
      "execution_count": null,
      "id": "762535df",
      "metadata": {
        "execution": {
          "iopub.execute_input": "2023-11-19T00:10:46.667210Z",
          "iopub.status.busy": "2023-11-19T00:10:46.666433Z",
          "iopub.status.idle": "2023-11-19T00:10:46.914207Z",
          "shell.execute_reply": "2023-11-19T00:10:46.911689Z"
        },
        "papermill": {
          "duration": 0.268478,
          "end_time": "2023-11-19T00:10:46.916974",
          "exception": false,
          "start_time": "2023-11-19T00:10:46.648496",
          "status": "completed"
        },
        "tags": [],
        "colab": {
          "base_uri": "https://localhost:8080/",
          "height": 363
        },
        "id": "762535df",
        "outputId": "6deb0163-8caa-4ca2-cab5-1297386e6427"
      },
      "outputs": [
        {
          "output_type": "execute_result",
          "data": {
            "text/plain": [
              "     tweet_id   sentiment                                            content\n",
              "0  1956967341       empty  @tiffanylue i know  i was listenin to bad habi...\n",
              "1  1956967666     sadness  Layin n bed with a headache  ughhhh...waitin o...\n",
              "2  1956967696     sadness                Funeral ceremony...gloomy friday...\n",
              "3  1956967789  enthusiasm               wants to hang out with friends SOON!\n",
              "4  1956968416     neutral  @dannycastillo We want to trade with someone w...\n",
              "5  1956968477       worry  Re-pinging @ghostridah14: why didn't you go to...\n",
              "6  1956968487     sadness  I should be sleep, but im not! thinking about ...\n",
              "7  1956968636       worry               Hmmm. http://www.djhero.com/ is down\n",
              "8  1956969035     sadness            @charviray Charlene my love. I miss you\n",
              "9  1956969172     sadness         @kelcouch I'm sorry  at least it's Friday?"
            ],
            "text/html": [
              "\n",
              "  <div id=\"df-875a33b4-033e-4a5a-9233-9d493787334d\" class=\"colab-df-container\">\n",
              "    <div>\n",
              "<style scoped>\n",
              "    .dataframe tbody tr th:only-of-type {\n",
              "        vertical-align: middle;\n",
              "    }\n",
              "\n",
              "    .dataframe tbody tr th {\n",
              "        vertical-align: top;\n",
              "    }\n",
              "\n",
              "    .dataframe thead th {\n",
              "        text-align: right;\n",
              "    }\n",
              "</style>\n",
              "<table border=\"1\" class=\"dataframe\">\n",
              "  <thead>\n",
              "    <tr style=\"text-align: right;\">\n",
              "      <th></th>\n",
              "      <th>tweet_id</th>\n",
              "      <th>sentiment</th>\n",
              "      <th>content</th>\n",
              "    </tr>\n",
              "  </thead>\n",
              "  <tbody>\n",
              "    <tr>\n",
              "      <th>0</th>\n",
              "      <td>1956967341</td>\n",
              "      <td>empty</td>\n",
              "      <td>@tiffanylue i know  i was listenin to bad habi...</td>\n",
              "    </tr>\n",
              "    <tr>\n",
              "      <th>1</th>\n",
              "      <td>1956967666</td>\n",
              "      <td>sadness</td>\n",
              "      <td>Layin n bed with a headache  ughhhh...waitin o...</td>\n",
              "    </tr>\n",
              "    <tr>\n",
              "      <th>2</th>\n",
              "      <td>1956967696</td>\n",
              "      <td>sadness</td>\n",
              "      <td>Funeral ceremony...gloomy friday...</td>\n",
              "    </tr>\n",
              "    <tr>\n",
              "      <th>3</th>\n",
              "      <td>1956967789</td>\n",
              "      <td>enthusiasm</td>\n",
              "      <td>wants to hang out with friends SOON!</td>\n",
              "    </tr>\n",
              "    <tr>\n",
              "      <th>4</th>\n",
              "      <td>1956968416</td>\n",
              "      <td>neutral</td>\n",
              "      <td>@dannycastillo We want to trade with someone w...</td>\n",
              "    </tr>\n",
              "    <tr>\n",
              "      <th>5</th>\n",
              "      <td>1956968477</td>\n",
              "      <td>worry</td>\n",
              "      <td>Re-pinging @ghostridah14: why didn't you go to...</td>\n",
              "    </tr>\n",
              "    <tr>\n",
              "      <th>6</th>\n",
              "      <td>1956968487</td>\n",
              "      <td>sadness</td>\n",
              "      <td>I should be sleep, but im not! thinking about ...</td>\n",
              "    </tr>\n",
              "    <tr>\n",
              "      <th>7</th>\n",
              "      <td>1956968636</td>\n",
              "      <td>worry</td>\n",
              "      <td>Hmmm. http://www.djhero.com/ is down</td>\n",
              "    </tr>\n",
              "    <tr>\n",
              "      <th>8</th>\n",
              "      <td>1956969035</td>\n",
              "      <td>sadness</td>\n",
              "      <td>@charviray Charlene my love. I miss you</td>\n",
              "    </tr>\n",
              "    <tr>\n",
              "      <th>9</th>\n",
              "      <td>1956969172</td>\n",
              "      <td>sadness</td>\n",
              "      <td>@kelcouch I'm sorry  at least it's Friday?</td>\n",
              "    </tr>\n",
              "  </tbody>\n",
              "</table>\n",
              "</div>\n",
              "    <div class=\"colab-df-buttons\">\n",
              "\n",
              "  <div class=\"colab-df-container\">\n",
              "    <button class=\"colab-df-convert\" onclick=\"convertToInteractive('df-875a33b4-033e-4a5a-9233-9d493787334d')\"\n",
              "            title=\"Convert this dataframe to an interactive table.\"\n",
              "            style=\"display:none;\">\n",
              "\n",
              "  <svg xmlns=\"http://www.w3.org/2000/svg\" height=\"24px\" viewBox=\"0 -960 960 960\">\n",
              "    <path d=\"M120-120v-720h720v720H120Zm60-500h600v-160H180v160Zm220 220h160v-160H400v160Zm0 220h160v-160H400v160ZM180-400h160v-160H180v160Zm440 0h160v-160H620v160ZM180-180h160v-160H180v160Zm440 0h160v-160H620v160Z\"/>\n",
              "  </svg>\n",
              "    </button>\n",
              "\n",
              "  <style>\n",
              "    .colab-df-container {\n",
              "      display:flex;\n",
              "      gap: 12px;\n",
              "    }\n",
              "\n",
              "    .colab-df-convert {\n",
              "      background-color: #E8F0FE;\n",
              "      border: none;\n",
              "      border-radius: 50%;\n",
              "      cursor: pointer;\n",
              "      display: none;\n",
              "      fill: #1967D2;\n",
              "      height: 32px;\n",
              "      padding: 0 0 0 0;\n",
              "      width: 32px;\n",
              "    }\n",
              "\n",
              "    .colab-df-convert:hover {\n",
              "      background-color: #E2EBFA;\n",
              "      box-shadow: 0px 1px 2px rgba(60, 64, 67, 0.3), 0px 1px 3px 1px rgba(60, 64, 67, 0.15);\n",
              "      fill: #174EA6;\n",
              "    }\n",
              "\n",
              "    .colab-df-buttons div {\n",
              "      margin-bottom: 4px;\n",
              "    }\n",
              "\n",
              "    [theme=dark] .colab-df-convert {\n",
              "      background-color: #3B4455;\n",
              "      fill: #D2E3FC;\n",
              "    }\n",
              "\n",
              "    [theme=dark] .colab-df-convert:hover {\n",
              "      background-color: #434B5C;\n",
              "      box-shadow: 0px 1px 3px 1px rgba(0, 0, 0, 0.15);\n",
              "      filter: drop-shadow(0px 1px 2px rgba(0, 0, 0, 0.3));\n",
              "      fill: #FFFFFF;\n",
              "    }\n",
              "  </style>\n",
              "\n",
              "    <script>\n",
              "      const buttonEl =\n",
              "        document.querySelector('#df-875a33b4-033e-4a5a-9233-9d493787334d button.colab-df-convert');\n",
              "      buttonEl.style.display =\n",
              "        google.colab.kernel.accessAllowed ? 'block' : 'none';\n",
              "\n",
              "      async function convertToInteractive(key) {\n",
              "        const element = document.querySelector('#df-875a33b4-033e-4a5a-9233-9d493787334d');\n",
              "        const dataTable =\n",
              "          await google.colab.kernel.invokeFunction('convertToInteractive',\n",
              "                                                    [key], {});\n",
              "        if (!dataTable) return;\n",
              "\n",
              "        const docLinkHtml = 'Like what you see? Visit the ' +\n",
              "          '<a target=\"_blank\" href=https://colab.research.google.com/notebooks/data_table.ipynb>data table notebook</a>'\n",
              "          + ' to learn more about interactive tables.';\n",
              "        element.innerHTML = '';\n",
              "        dataTable['output_type'] = 'display_data';\n",
              "        await google.colab.output.renderOutput(dataTable, element);\n",
              "        const docLink = document.createElement('div');\n",
              "        docLink.innerHTML = docLinkHtml;\n",
              "        element.appendChild(docLink);\n",
              "      }\n",
              "    </script>\n",
              "  </div>\n",
              "\n",
              "\n",
              "<div id=\"df-fac9e030-ccc5-431b-a960-18a9e06f7d29\">\n",
              "  <button class=\"colab-df-quickchart\" onclick=\"quickchart('df-fac9e030-ccc5-431b-a960-18a9e06f7d29')\"\n",
              "            title=\"Suggest charts\"\n",
              "            style=\"display:none;\">\n",
              "\n",
              "<svg xmlns=\"http://www.w3.org/2000/svg\" height=\"24px\"viewBox=\"0 0 24 24\"\n",
              "     width=\"24px\">\n",
              "    <g>\n",
              "        <path d=\"M19 3H5c-1.1 0-2 .9-2 2v14c0 1.1.9 2 2 2h14c1.1 0 2-.9 2-2V5c0-1.1-.9-2-2-2zM9 17H7v-7h2v7zm4 0h-2V7h2v10zm4 0h-2v-4h2v4z\"/>\n",
              "    </g>\n",
              "</svg>\n",
              "  </button>\n",
              "\n",
              "<style>\n",
              "  .colab-df-quickchart {\n",
              "      --bg-color: #E8F0FE;\n",
              "      --fill-color: #1967D2;\n",
              "      --hover-bg-color: #E2EBFA;\n",
              "      --hover-fill-color: #174EA6;\n",
              "      --disabled-fill-color: #AAA;\n",
              "      --disabled-bg-color: #DDD;\n",
              "  }\n",
              "\n",
              "  [theme=dark] .colab-df-quickchart {\n",
              "      --bg-color: #3B4455;\n",
              "      --fill-color: #D2E3FC;\n",
              "      --hover-bg-color: #434B5C;\n",
              "      --hover-fill-color: #FFFFFF;\n",
              "      --disabled-bg-color: #3B4455;\n",
              "      --disabled-fill-color: #666;\n",
              "  }\n",
              "\n",
              "  .colab-df-quickchart {\n",
              "    background-color: var(--bg-color);\n",
              "    border: none;\n",
              "    border-radius: 50%;\n",
              "    cursor: pointer;\n",
              "    display: none;\n",
              "    fill: var(--fill-color);\n",
              "    height: 32px;\n",
              "    padding: 0;\n",
              "    width: 32px;\n",
              "  }\n",
              "\n",
              "  .colab-df-quickchart:hover {\n",
              "    background-color: var(--hover-bg-color);\n",
              "    box-shadow: 0 1px 2px rgba(60, 64, 67, 0.3), 0 1px 3px 1px rgba(60, 64, 67, 0.15);\n",
              "    fill: var(--button-hover-fill-color);\n",
              "  }\n",
              "\n",
              "  .colab-df-quickchart-complete:disabled,\n",
              "  .colab-df-quickchart-complete:disabled:hover {\n",
              "    background-color: var(--disabled-bg-color);\n",
              "    fill: var(--disabled-fill-color);\n",
              "    box-shadow: none;\n",
              "  }\n",
              "\n",
              "  .colab-df-spinner {\n",
              "    border: 2px solid var(--fill-color);\n",
              "    border-color: transparent;\n",
              "    border-bottom-color: var(--fill-color);\n",
              "    animation:\n",
              "      spin 1s steps(1) infinite;\n",
              "  }\n",
              "\n",
              "  @keyframes spin {\n",
              "    0% {\n",
              "      border-color: transparent;\n",
              "      border-bottom-color: var(--fill-color);\n",
              "      border-left-color: var(--fill-color);\n",
              "    }\n",
              "    20% {\n",
              "      border-color: transparent;\n",
              "      border-left-color: var(--fill-color);\n",
              "      border-top-color: var(--fill-color);\n",
              "    }\n",
              "    30% {\n",
              "      border-color: transparent;\n",
              "      border-left-color: var(--fill-color);\n",
              "      border-top-color: var(--fill-color);\n",
              "      border-right-color: var(--fill-color);\n",
              "    }\n",
              "    40% {\n",
              "      border-color: transparent;\n",
              "      border-right-color: var(--fill-color);\n",
              "      border-top-color: var(--fill-color);\n",
              "    }\n",
              "    60% {\n",
              "      border-color: transparent;\n",
              "      border-right-color: var(--fill-color);\n",
              "    }\n",
              "    80% {\n",
              "      border-color: transparent;\n",
              "      border-right-color: var(--fill-color);\n",
              "      border-bottom-color: var(--fill-color);\n",
              "    }\n",
              "    90% {\n",
              "      border-color: transparent;\n",
              "      border-bottom-color: var(--fill-color);\n",
              "    }\n",
              "  }\n",
              "</style>\n",
              "\n",
              "  <script>\n",
              "    async function quickchart(key) {\n",
              "      const quickchartButtonEl =\n",
              "        document.querySelector('#' + key + ' button');\n",
              "      quickchartButtonEl.disabled = true;  // To prevent multiple clicks.\n",
              "      quickchartButtonEl.classList.add('colab-df-spinner');\n",
              "      try {\n",
              "        const charts = await google.colab.kernel.invokeFunction(\n",
              "            'suggestCharts', [key], {});\n",
              "      } catch (error) {\n",
              "        console.error('Error during call to suggestCharts:', error);\n",
              "      }\n",
              "      quickchartButtonEl.classList.remove('colab-df-spinner');\n",
              "      quickchartButtonEl.classList.add('colab-df-quickchart-complete');\n",
              "    }\n",
              "    (() => {\n",
              "      let quickchartButtonEl =\n",
              "        document.querySelector('#df-fac9e030-ccc5-431b-a960-18a9e06f7d29 button');\n",
              "      quickchartButtonEl.style.display =\n",
              "        google.colab.kernel.accessAllowed ? 'block' : 'none';\n",
              "    })();\n",
              "  </script>\n",
              "</div>\n",
              "    </div>\n",
              "  </div>\n"
            ]
          },
          "metadata": {},
          "execution_count": 6
        }
      ],
      "source": [
        "df = pd.read_csv('/content/drive/MyDrive/Emotion Detection/Emotions.csv')\n",
        "df.head(10)"
      ]
    },
    {
      "cell_type": "code",
      "execution_count": null,
      "id": "a4d315d7",
      "metadata": {
        "execution": {
          "iopub.execute_input": "2023-11-19T00:10:46.979360Z",
          "iopub.status.busy": "2023-11-19T00:10:46.979030Z",
          "iopub.status.idle": "2023-11-19T00:10:47.011400Z",
          "shell.execute_reply": "2023-11-19T00:10:47.010225Z"
        },
        "papermill": {
          "duration": 0.050299,
          "end_time": "2023-11-19T00:10:47.013528",
          "exception": false,
          "start_time": "2023-11-19T00:10:46.963229",
          "status": "completed"
        },
        "tags": [],
        "colab": {
          "base_uri": "https://localhost:8080/"
        },
        "id": "a4d315d7",
        "outputId": "0688c583-cbae-4d94-c175-62f5127bd92b"
      },
      "outputs": [
        {
          "output_type": "stream",
          "name": "stdout",
          "text": [
            "<class 'pandas.core.frame.DataFrame'>\n",
            "RangeIndex: 40000 entries, 0 to 39999\n",
            "Data columns (total 3 columns):\n",
            " #   Column     Non-Null Count  Dtype \n",
            "---  ------     --------------  ----- \n",
            " 0   tweet_id   40000 non-null  int64 \n",
            " 1   sentiment  40000 non-null  object\n",
            " 2   content    40000 non-null  object\n",
            "dtypes: int64(1), object(2)\n",
            "memory usage: 937.6+ KB\n"
          ]
        }
      ],
      "source": [
        "df.info()"
      ]
    },
    {
      "cell_type": "code",
      "execution_count": null,
      "id": "3a0f4e3f",
      "metadata": {
        "execution": {
          "iopub.execute_input": "2023-11-19T00:10:47.046728Z",
          "iopub.status.busy": "2023-11-19T00:10:47.046235Z",
          "iopub.status.idle": "2023-11-19T00:10:47.052585Z",
          "shell.execute_reply": "2023-11-19T00:10:47.051756Z"
        },
        "papermill": {
          "duration": 0.025811,
          "end_time": "2023-11-19T00:10:47.054610",
          "exception": false,
          "start_time": "2023-11-19T00:10:47.028799",
          "status": "completed"
        },
        "tags": [],
        "colab": {
          "base_uri": "https://localhost:8080/"
        },
        "id": "3a0f4e3f",
        "outputId": "9c18213b-a755-4226-a2c2-c42ff2897619"
      },
      "outputs": [
        {
          "output_type": "stream",
          "name": "stdout",
          "text": [
            "Num of numerical variables: 1\n",
            "\n",
            "The numerical variables are:  ['tweet_id']\n"
          ]
        }
      ],
      "source": [
        "numerical = [var for var in df.columns if df[var].dtype!='O']\n",
        "\n",
        "print('Num of numerical variables: {}\\n'.format(len(numerical)))\n",
        "print('The numerical variables are: ', numerical)"
      ]
    },
    {
      "cell_type": "code",
      "execution_count": null,
      "id": "78fc0bb8",
      "metadata": {
        "execution": {
          "iopub.execute_input": "2023-11-19T00:10:47.089204Z",
          "iopub.status.busy": "2023-11-19T00:10:47.088117Z",
          "iopub.status.idle": "2023-11-19T00:10:47.097160Z",
          "shell.execute_reply": "2023-11-19T00:10:47.096244Z"
        },
        "papermill": {
          "duration": 0.029459,
          "end_time": "2023-11-19T00:10:47.100343",
          "exception": false,
          "start_time": "2023-11-19T00:10:47.070884",
          "status": "completed"
        },
        "tags": [],
        "id": "78fc0bb8"
      },
      "outputs": [],
      "source": [
        "df = df.drop(columns=['tweet_id'])"
      ]
    },
    {
      "cell_type": "code",
      "execution_count": null,
      "id": "552e4713",
      "metadata": {
        "execution": {
          "iopub.execute_input": "2023-11-19T00:10:47.137705Z",
          "iopub.status.busy": "2023-11-19T00:10:47.137238Z",
          "iopub.status.idle": "2023-11-19T00:10:47.167156Z",
          "shell.execute_reply": "2023-11-19T00:10:47.165515Z"
        },
        "papermill": {
          "duration": 0.050489,
          "end_time": "2023-11-19T00:10:47.169116",
          "exception": false,
          "start_time": "2023-11-19T00:10:47.118627",
          "status": "completed"
        },
        "tags": [],
        "colab": {
          "base_uri": "https://localhost:8080/"
        },
        "id": "552e4713",
        "outputId": "85a9c80b-1d17-470d-a55e-d6c155b7b880"
      },
      "outputs": [
        {
          "output_type": "stream",
          "name": "stdout",
          "text": [
            "Total duplicated rows: 91\n"
          ]
        }
      ],
      "source": [
        "duplicates_count = df.duplicated().sum()\n",
        "print(f'Total duplicated rows: {duplicates_count}')"
      ]
    },
    {
      "cell_type": "code",
      "execution_count": null,
      "id": "e2567e9b",
      "metadata": {
        "execution": {
          "iopub.execute_input": "2023-11-19T00:10:47.203164Z",
          "iopub.status.busy": "2023-11-19T00:10:47.202391Z",
          "iopub.status.idle": "2023-11-19T00:10:47.222309Z",
          "shell.execute_reply": "2023-11-19T00:10:47.221602Z"
        },
        "papermill": {
          "duration": 0.039432,
          "end_time": "2023-11-19T00:10:47.224072",
          "exception": false,
          "start_time": "2023-11-19T00:10:47.184640",
          "status": "completed"
        },
        "tags": [],
        "colab": {
          "base_uri": "https://localhost:8080/",
          "height": 423
        },
        "id": "e2567e9b",
        "outputId": "9e5f8857-9b2e-49e1-aaec-0d0b4777f9e1"
      },
      "outputs": [
        {
          "output_type": "execute_result",
          "data": {
            "text/plain": [
              "       sentiment                                        content\n",
              "366        worry             I feel so deflated. No more doggy.\n",
              "521        worry          Somebody please save the polar bears!\n",
              "1026     neutral                                    I'm at work\n",
              "3684     sadness      @dublins98dave me too! I am down 400 euro\n",
              "4363       worry        is upset, I left my phone at home again\n",
              "...          ...                                            ...\n",
              "39859       love                              Happy Mothers Day\n",
              "39898       love                             happy mothers day!\n",
              "39913  happiness                            happy mother's day!\n",
              "39915       love                    happy mother's day everyone\n",
              "39945       love  Happy Mother's Day to all the moms out there!\n",
              "\n",
              "[173 rows x 2 columns]"
            ],
            "text/html": [
              "\n",
              "  <div id=\"df-e5a9301c-1c79-43c6-b432-3bf755992a55\" class=\"colab-df-container\">\n",
              "    <div>\n",
              "<style scoped>\n",
              "    .dataframe tbody tr th:only-of-type {\n",
              "        vertical-align: middle;\n",
              "    }\n",
              "\n",
              "    .dataframe tbody tr th {\n",
              "        vertical-align: top;\n",
              "    }\n",
              "\n",
              "    .dataframe thead th {\n",
              "        text-align: right;\n",
              "    }\n",
              "</style>\n",
              "<table border=\"1\" class=\"dataframe\">\n",
              "  <thead>\n",
              "    <tr style=\"text-align: right;\">\n",
              "      <th></th>\n",
              "      <th>sentiment</th>\n",
              "      <th>content</th>\n",
              "    </tr>\n",
              "  </thead>\n",
              "  <tbody>\n",
              "    <tr>\n",
              "      <th>366</th>\n",
              "      <td>worry</td>\n",
              "      <td>I feel so deflated. No more doggy.</td>\n",
              "    </tr>\n",
              "    <tr>\n",
              "      <th>521</th>\n",
              "      <td>worry</td>\n",
              "      <td>Somebody please save the polar bears!</td>\n",
              "    </tr>\n",
              "    <tr>\n",
              "      <th>1026</th>\n",
              "      <td>neutral</td>\n",
              "      <td>I'm at work</td>\n",
              "    </tr>\n",
              "    <tr>\n",
              "      <th>3684</th>\n",
              "      <td>sadness</td>\n",
              "      <td>@dublins98dave me too! I am down 400 euro</td>\n",
              "    </tr>\n",
              "    <tr>\n",
              "      <th>4363</th>\n",
              "      <td>worry</td>\n",
              "      <td>is upset, I left my phone at home again</td>\n",
              "    </tr>\n",
              "    <tr>\n",
              "      <th>...</th>\n",
              "      <td>...</td>\n",
              "      <td>...</td>\n",
              "    </tr>\n",
              "    <tr>\n",
              "      <th>39859</th>\n",
              "      <td>love</td>\n",
              "      <td>Happy Mothers Day</td>\n",
              "    </tr>\n",
              "    <tr>\n",
              "      <th>39898</th>\n",
              "      <td>love</td>\n",
              "      <td>happy mothers day!</td>\n",
              "    </tr>\n",
              "    <tr>\n",
              "      <th>39913</th>\n",
              "      <td>happiness</td>\n",
              "      <td>happy mother's day!</td>\n",
              "    </tr>\n",
              "    <tr>\n",
              "      <th>39915</th>\n",
              "      <td>love</td>\n",
              "      <td>happy mother's day everyone</td>\n",
              "    </tr>\n",
              "    <tr>\n",
              "      <th>39945</th>\n",
              "      <td>love</td>\n",
              "      <td>Happy Mother's Day to all the moms out there!</td>\n",
              "    </tr>\n",
              "  </tbody>\n",
              "</table>\n",
              "<p>173 rows × 2 columns</p>\n",
              "</div>\n",
              "    <div class=\"colab-df-buttons\">\n",
              "\n",
              "  <div class=\"colab-df-container\">\n",
              "    <button class=\"colab-df-convert\" onclick=\"convertToInteractive('df-e5a9301c-1c79-43c6-b432-3bf755992a55')\"\n",
              "            title=\"Convert this dataframe to an interactive table.\"\n",
              "            style=\"display:none;\">\n",
              "\n",
              "  <svg xmlns=\"http://www.w3.org/2000/svg\" height=\"24px\" viewBox=\"0 -960 960 960\">\n",
              "    <path d=\"M120-120v-720h720v720H120Zm60-500h600v-160H180v160Zm220 220h160v-160H400v160Zm0 220h160v-160H400v160ZM180-400h160v-160H180v160Zm440 0h160v-160H620v160ZM180-180h160v-160H180v160Zm440 0h160v-160H620v160Z\"/>\n",
              "  </svg>\n",
              "    </button>\n",
              "\n",
              "  <style>\n",
              "    .colab-df-container {\n",
              "      display:flex;\n",
              "      gap: 12px;\n",
              "    }\n",
              "\n",
              "    .colab-df-convert {\n",
              "      background-color: #E8F0FE;\n",
              "      border: none;\n",
              "      border-radius: 50%;\n",
              "      cursor: pointer;\n",
              "      display: none;\n",
              "      fill: #1967D2;\n",
              "      height: 32px;\n",
              "      padding: 0 0 0 0;\n",
              "      width: 32px;\n",
              "    }\n",
              "\n",
              "    .colab-df-convert:hover {\n",
              "      background-color: #E2EBFA;\n",
              "      box-shadow: 0px 1px 2px rgba(60, 64, 67, 0.3), 0px 1px 3px 1px rgba(60, 64, 67, 0.15);\n",
              "      fill: #174EA6;\n",
              "    }\n",
              "\n",
              "    .colab-df-buttons div {\n",
              "      margin-bottom: 4px;\n",
              "    }\n",
              "\n",
              "    [theme=dark] .colab-df-convert {\n",
              "      background-color: #3B4455;\n",
              "      fill: #D2E3FC;\n",
              "    }\n",
              "\n",
              "    [theme=dark] .colab-df-convert:hover {\n",
              "      background-color: #434B5C;\n",
              "      box-shadow: 0px 1px 3px 1px rgba(0, 0, 0, 0.15);\n",
              "      filter: drop-shadow(0px 1px 2px rgba(0, 0, 0, 0.3));\n",
              "      fill: #FFFFFF;\n",
              "    }\n",
              "  </style>\n",
              "\n",
              "    <script>\n",
              "      const buttonEl =\n",
              "        document.querySelector('#df-e5a9301c-1c79-43c6-b432-3bf755992a55 button.colab-df-convert');\n",
              "      buttonEl.style.display =\n",
              "        google.colab.kernel.accessAllowed ? 'block' : 'none';\n",
              "\n",
              "      async function convertToInteractive(key) {\n",
              "        const element = document.querySelector('#df-e5a9301c-1c79-43c6-b432-3bf755992a55');\n",
              "        const dataTable =\n",
              "          await google.colab.kernel.invokeFunction('convertToInteractive',\n",
              "                                                    [key], {});\n",
              "        if (!dataTable) return;\n",
              "\n",
              "        const docLinkHtml = 'Like what you see? Visit the ' +\n",
              "          '<a target=\"_blank\" href=https://colab.research.google.com/notebooks/data_table.ipynb>data table notebook</a>'\n",
              "          + ' to learn more about interactive tables.';\n",
              "        element.innerHTML = '';\n",
              "        dataTable['output_type'] = 'display_data';\n",
              "        await google.colab.output.renderOutput(dataTable, element);\n",
              "        const docLink = document.createElement('div');\n",
              "        docLink.innerHTML = docLinkHtml;\n",
              "        element.appendChild(docLink);\n",
              "      }\n",
              "    </script>\n",
              "  </div>\n",
              "\n",
              "\n",
              "<div id=\"df-cfcdd5c3-e2b6-46b9-a539-2507010a34fe\">\n",
              "  <button class=\"colab-df-quickchart\" onclick=\"quickchart('df-cfcdd5c3-e2b6-46b9-a539-2507010a34fe')\"\n",
              "            title=\"Suggest charts\"\n",
              "            style=\"display:none;\">\n",
              "\n",
              "<svg xmlns=\"http://www.w3.org/2000/svg\" height=\"24px\"viewBox=\"0 0 24 24\"\n",
              "     width=\"24px\">\n",
              "    <g>\n",
              "        <path d=\"M19 3H5c-1.1 0-2 .9-2 2v14c0 1.1.9 2 2 2h14c1.1 0 2-.9 2-2V5c0-1.1-.9-2-2-2zM9 17H7v-7h2v7zm4 0h-2V7h2v10zm4 0h-2v-4h2v4z\"/>\n",
              "    </g>\n",
              "</svg>\n",
              "  </button>\n",
              "\n",
              "<style>\n",
              "  .colab-df-quickchart {\n",
              "      --bg-color: #E8F0FE;\n",
              "      --fill-color: #1967D2;\n",
              "      --hover-bg-color: #E2EBFA;\n",
              "      --hover-fill-color: #174EA6;\n",
              "      --disabled-fill-color: #AAA;\n",
              "      --disabled-bg-color: #DDD;\n",
              "  }\n",
              "\n",
              "  [theme=dark] .colab-df-quickchart {\n",
              "      --bg-color: #3B4455;\n",
              "      --fill-color: #D2E3FC;\n",
              "      --hover-bg-color: #434B5C;\n",
              "      --hover-fill-color: #FFFFFF;\n",
              "      --disabled-bg-color: #3B4455;\n",
              "      --disabled-fill-color: #666;\n",
              "  }\n",
              "\n",
              "  .colab-df-quickchart {\n",
              "    background-color: var(--bg-color);\n",
              "    border: none;\n",
              "    border-radius: 50%;\n",
              "    cursor: pointer;\n",
              "    display: none;\n",
              "    fill: var(--fill-color);\n",
              "    height: 32px;\n",
              "    padding: 0;\n",
              "    width: 32px;\n",
              "  }\n",
              "\n",
              "  .colab-df-quickchart:hover {\n",
              "    background-color: var(--hover-bg-color);\n",
              "    box-shadow: 0 1px 2px rgba(60, 64, 67, 0.3), 0 1px 3px 1px rgba(60, 64, 67, 0.15);\n",
              "    fill: var(--button-hover-fill-color);\n",
              "  }\n",
              "\n",
              "  .colab-df-quickchart-complete:disabled,\n",
              "  .colab-df-quickchart-complete:disabled:hover {\n",
              "    background-color: var(--disabled-bg-color);\n",
              "    fill: var(--disabled-fill-color);\n",
              "    box-shadow: none;\n",
              "  }\n",
              "\n",
              "  .colab-df-spinner {\n",
              "    border: 2px solid var(--fill-color);\n",
              "    border-color: transparent;\n",
              "    border-bottom-color: var(--fill-color);\n",
              "    animation:\n",
              "      spin 1s steps(1) infinite;\n",
              "  }\n",
              "\n",
              "  @keyframes spin {\n",
              "    0% {\n",
              "      border-color: transparent;\n",
              "      border-bottom-color: var(--fill-color);\n",
              "      border-left-color: var(--fill-color);\n",
              "    }\n",
              "    20% {\n",
              "      border-color: transparent;\n",
              "      border-left-color: var(--fill-color);\n",
              "      border-top-color: var(--fill-color);\n",
              "    }\n",
              "    30% {\n",
              "      border-color: transparent;\n",
              "      border-left-color: var(--fill-color);\n",
              "      border-top-color: var(--fill-color);\n",
              "      border-right-color: var(--fill-color);\n",
              "    }\n",
              "    40% {\n",
              "      border-color: transparent;\n",
              "      border-right-color: var(--fill-color);\n",
              "      border-top-color: var(--fill-color);\n",
              "    }\n",
              "    60% {\n",
              "      border-color: transparent;\n",
              "      border-right-color: var(--fill-color);\n",
              "    }\n",
              "    80% {\n",
              "      border-color: transparent;\n",
              "      border-right-color: var(--fill-color);\n",
              "      border-bottom-color: var(--fill-color);\n",
              "    }\n",
              "    90% {\n",
              "      border-color: transparent;\n",
              "      border-bottom-color: var(--fill-color);\n",
              "    }\n",
              "  }\n",
              "</style>\n",
              "\n",
              "  <script>\n",
              "    async function quickchart(key) {\n",
              "      const quickchartButtonEl =\n",
              "        document.querySelector('#' + key + ' button');\n",
              "      quickchartButtonEl.disabled = true;  // To prevent multiple clicks.\n",
              "      quickchartButtonEl.classList.add('colab-df-spinner');\n",
              "      try {\n",
              "        const charts = await google.colab.kernel.invokeFunction(\n",
              "            'suggestCharts', [key], {});\n",
              "      } catch (error) {\n",
              "        console.error('Error during call to suggestCharts:', error);\n",
              "      }\n",
              "      quickchartButtonEl.classList.remove('colab-df-spinner');\n",
              "      quickchartButtonEl.classList.add('colab-df-quickchart-complete');\n",
              "    }\n",
              "    (() => {\n",
              "      let quickchartButtonEl =\n",
              "        document.querySelector('#df-cfcdd5c3-e2b6-46b9-a539-2507010a34fe button');\n",
              "      quickchartButtonEl.style.display =\n",
              "        google.colab.kernel.accessAllowed ? 'block' : 'none';\n",
              "    })();\n",
              "  </script>\n",
              "</div>\n",
              "    </div>\n",
              "  </div>\n"
            ]
          },
          "metadata": {},
          "execution_count": 11
        }
      ],
      "source": [
        "df[df['content'].duplicated() == True]"
      ]
    },
    {
      "cell_type": "code",
      "execution_count": null,
      "id": "be6345a4",
      "metadata": {
        "execution": {
          "iopub.execute_input": "2023-11-19T00:10:47.256839Z",
          "iopub.status.busy": "2023-11-19T00:10:47.256493Z",
          "iopub.status.idle": "2023-11-19T00:10:47.273954Z",
          "shell.execute_reply": "2023-11-19T00:10:47.272701Z"
        },
        "papermill": {
          "duration": 0.036944,
          "end_time": "2023-11-19T00:10:47.276555",
          "exception": false,
          "start_time": "2023-11-19T00:10:47.239611",
          "status": "completed"
        },
        "tags": [],
        "id": "be6345a4"
      },
      "outputs": [],
      "source": [
        "index = df[df['content'].duplicated() == True].index\n",
        "df.drop(index, axis = 0, inplace = True)\n",
        "df.reset_index(inplace=True, drop = True)"
      ]
    },
    {
      "cell_type": "code",
      "execution_count": null,
      "id": "d6565185",
      "metadata": {
        "execution": {
          "iopub.execute_input": "2023-11-19T00:10:47.397625Z",
          "iopub.status.busy": "2023-11-19T00:10:47.397111Z",
          "iopub.status.idle": "2023-11-19T00:10:47.402022Z",
          "shell.execute_reply": "2023-11-19T00:10:47.401239Z"
        },
        "papermill": {
          "duration": 0.025758,
          "end_time": "2023-11-19T00:10:47.404945",
          "exception": false,
          "start_time": "2023-11-19T00:10:47.379187",
          "status": "completed"
        },
        "tags": [],
        "colab": {
          "base_uri": "https://localhost:8080/"
        },
        "id": "d6565185",
        "outputId": "d1afa523-9087-4476-d0f7-ecc29b36f688"
      },
      "outputs": [
        {
          "output_type": "execute_result",
          "data": {
            "text/plain": [
              "(39827, 2)"
            ]
          },
          "metadata": {},
          "execution_count": 13
        }
      ],
      "source": [
        "df.shape"
      ]
    },
    {
      "cell_type": "code",
      "execution_count": null,
      "id": "843d1e3e",
      "metadata": {
        "execution": {
          "iopub.execute_input": "2023-11-19T00:10:47.475661Z",
          "iopub.status.busy": "2023-11-19T00:10:47.474976Z",
          "iopub.status.idle": "2023-11-19T00:10:47.482885Z",
          "shell.execute_reply": "2023-11-19T00:10:47.481907Z"
        },
        "papermill": {
          "duration": 0.028794,
          "end_time": "2023-11-19T00:10:47.485455",
          "exception": false,
          "start_time": "2023-11-19T00:10:47.456661",
          "status": "completed"
        },
        "tags": [],
        "colab": {
          "base_uri": "https://localhost:8080/"
        },
        "id": "843d1e3e",
        "outputId": "de08f612-5b9e-4765-8528-be04d0b1efad"
      },
      "outputs": [
        {
          "output_type": "stream",
          "name": "stdout",
          "text": [
            "['empty' 'sadness' 'enthusiasm' 'neutral' 'worry' 'surprise' 'love' 'fun'\n",
            " 'hate' 'happiness' 'boredom' 'relief' 'anger']\n"
          ]
        }
      ],
      "source": [
        "unique_sentiments = df['sentiment'].unique()\n",
        "print(unique_sentiments)"
      ]
    },
    {
      "cell_type": "code",
      "execution_count": null,
      "id": "7d79d605",
      "metadata": {
        "execution": {
          "iopub.execute_input": "2023-11-19T00:10:47.521558Z",
          "iopub.status.busy": "2023-11-19T00:10:47.521061Z",
          "iopub.status.idle": "2023-11-19T00:10:47.535124Z",
          "shell.execute_reply": "2023-11-19T00:10:47.533852Z"
        },
        "papermill": {
          "duration": 0.0353,
          "end_time": "2023-11-19T00:10:47.537615",
          "exception": false,
          "start_time": "2023-11-19T00:10:47.502315",
          "status": "completed"
        },
        "tags": [],
        "colab": {
          "base_uri": "https://localhost:8080/"
        },
        "id": "7d79d605",
        "outputId": "88115481-7055-4fa7-93b8-36d2711153f8"
      },
      "outputs": [
        {
          "output_type": "stream",
          "name": "stdout",
          "text": [
            "            Counts  Percentage\n",
            "neutral       8598   21.588370\n",
            "worry         8437   21.184121\n",
            "happiness     5184   13.016295\n",
            "sadness       5154   12.940970\n",
            "love          3785    9.503603\n",
            "surprise      2181    5.476184\n",
            "fun           1775    4.456776\n",
            "relief        1522    3.821528\n",
            "hate          1322    3.319356\n",
            "empty          822    2.063926\n",
            "enthusiasm     758    1.903231\n",
            "boredom        179    0.449444\n",
            "anger          110    0.276195\n",
            "\n",
            "total values: 13\n"
          ]
        }
      ],
      "source": [
        "frequency_counts = df['sentiment'].value_counts()\n",
        "\n",
        "frequency_percentage = (frequency_counts / len(df['sentiment'])) * 100\n",
        "frequency_df = pd.DataFrame({'Counts': frequency_counts, 'Percentage': frequency_percentage})\n",
        "\n",
        "print(frequency_df)\n",
        "\n",
        "cardinality = df['sentiment'].nunique()\n",
        "print(f\"\\ntotal values: {cardinality}\")"
      ]
    },
    {
      "cell_type": "code",
      "execution_count": null,
      "id": "318f89fa",
      "metadata": {
        "execution": {
          "iopub.execute_input": "2023-11-19T00:10:47.577038Z",
          "iopub.status.busy": "2023-11-19T00:10:47.576138Z",
          "iopub.status.idle": "2023-11-19T00:10:47.856486Z",
          "shell.execute_reply": "2023-11-19T00:10:47.855489Z"
        },
        "papermill": {
          "duration": 0.299941,
          "end_time": "2023-11-19T00:10:47.858761",
          "exception": false,
          "start_time": "2023-11-19T00:10:47.558820",
          "status": "completed"
        },
        "tags": [],
        "colab": {
          "base_uri": "https://localhost:8080/",
          "height": 472
        },
        "id": "318f89fa",
        "outputId": "f014acb0-e4af-4397-859c-3699ef23a812"
      },
      "outputs": [
        {
          "output_type": "display_data",
          "data": {
            "text/plain": [
              "<Figure size 640x480 with 1 Axes>"
            ],
            "image/png": "[encoded data removed]"
          },
          "metadata": {}
        }
      ],
      "source": [
        "sentiment_counts = df['sentiment'].value_counts().sort_index()\n",
        "\n",
        "sentiments = sentiment_counts.index\n",
        "frequencies = sentiment_counts.values\n",
        "plt.barh(sentiments, frequencies, color='orange')\n",
        "plt.xlabel('Frequency')\n",
        "plt.ylabel('Sentiment')\n",
        "plt.title('Distribution of class \"sentiment\"')\n",
        "plt.gca().invert_yaxis()\n",
        "plt.show()"
      ]
    },
    {
      "cell_type": "markdown",
      "id": "fce8c259",
      "metadata": {
        "papermill": {
          "duration": 0.016742,
          "end_time": "2023-11-19T00:10:47.895344",
          "exception": false,
          "start_time": "2023-11-19T00:10:47.878602",
          "status": "completed"
        },
        "tags": [],
        "id": "fce8c259"
      },
      "source": [
        "Observations:\n",
        "- Classes are imbalanced - each class is not evenly distributed. Imbalance rate <21.32% (anger - neutral)\n",
        "- Tweets primarily convey neutral and negative sentiments"
      ]
    },
    {
      "cell_type": "code",
      "execution_count": null,
      "id": "f4a97d98",
      "metadata": {
        "execution": {
          "iopub.execute_input": "2023-11-19T00:10:47.975664Z",
          "iopub.status.busy": "2023-11-19T00:10:47.975201Z",
          "iopub.status.idle": "2023-11-19T00:10:47.985964Z",
          "shell.execute_reply": "2023-11-19T00:10:47.983492Z"
        },
        "papermill": {
          "duration": 0.03305,
          "end_time": "2023-11-19T00:10:47.988864",
          "exception": false,
          "start_time": "2023-11-19T00:10:47.955814",
          "status": "completed"
        },
        "tags": [],
        "colab": {
          "base_uri": "https://localhost:8080/"
        },
        "id": "f4a97d98",
        "outputId": "5a6be0fc-b96d-419b-c01c-3af0bd121e07"
      },
      "outputs": [
        {
          "output_type": "stream",
          "name": "stdout",
          "text": [
            "['empty' 'sadness' 'enthusiasm' 'neutral' 'worry' 'surprise' 'love' 'fun'\n",
            " 'hate' 'happiness' 'boredom' 'relief' 'anger']\n"
          ]
        }
      ],
      "source": [
        "unique_sentiments = df['sentiment'].unique()\n",
        "print(unique_sentiments)"
      ]
    },
    {
      "cell_type": "code",
      "execution_count": null,
      "id": "de44a4c1",
      "metadata": {
        "execution": {
          "iopub.execute_input": "2023-11-19T00:10:48.034148Z",
          "iopub.status.busy": "2023-11-19T00:10:48.032639Z",
          "iopub.status.idle": "2023-11-19T00:10:48.043903Z",
          "shell.execute_reply": "2023-11-19T00:10:48.043157Z"
        },
        "papermill": {
          "duration": 0.036014,
          "end_time": "2023-11-19T00:10:48.047564",
          "exception": false,
          "start_time": "2023-11-19T00:10:48.011550",
          "status": "completed"
        },
        "tags": [],
        "id": "de44a4c1"
      },
      "outputs": [],
      "source": [
        "sentiment_mapping = {\n",
        "    'empty': 'negative',\n",
        "    'sadness': 'negative',\n",
        "    'worry': 'negative',\n",
        "    'hate': 'negative',\n",
        "    'boredom': 'negative',\n",
        "    'anger': 'negative',\n",
        "    'enthusiasm': 'positive',\n",
        "    'neutral': 'neutral',\n",
        "    'surprise': 'neutral',\n",
        "    'love': 'positive',\n",
        "    'fun': 'positive',\n",
        "    'happiness': 'positive',\n",
        "    'relief': 'positive'\n",
        "}\n",
        "\n",
        "df['label'] = df['sentiment'].map(sentiment_mapping)"
      ]
    },
    {
      "cell_type": "code",
      "execution_count": null,
      "id": "b41f868a",
      "metadata": {
        "execution": {
          "iopub.execute_input": "2023-11-19T00:10:48.094254Z",
          "iopub.status.busy": "2023-11-19T00:10:48.093885Z",
          "iopub.status.idle": "2023-11-19T00:10:48.101003Z",
          "shell.execute_reply": "2023-11-19T00:10:48.100270Z"
        },
        "papermill": {
          "duration": 0.032484,
          "end_time": "2023-11-19T00:10:48.103783",
          "exception": false,
          "start_time": "2023-11-19T00:10:48.071299",
          "status": "completed"
        },
        "tags": [],
        "id": "b41f868a"
      },
      "outputs": [],
      "source": [
        "df = df.drop(columns=['sentiment'])"
      ]
    },
    {
      "cell_type": "code",
      "execution_count": null,
      "id": "a35c136e",
      "metadata": {
        "execution": {
          "iopub.execute_input": "2023-11-19T00:10:48.142091Z",
          "iopub.status.busy": "2023-11-19T00:10:48.141103Z",
          "iopub.status.idle": "2023-11-19T00:10:48.149135Z",
          "shell.execute_reply": "2023-11-19T00:10:48.148449Z"
        },
        "papermill": {
          "duration": 0.027845,
          "end_time": "2023-11-19T00:10:48.150714",
          "exception": false,
          "start_time": "2023-11-19T00:10:48.122869",
          "status": "completed"
        },
        "tags": [],
        "colab": {
          "base_uri": "https://localhost:8080/"
        },
        "id": "a35c136e",
        "outputId": "3a5ce961-b687-495b-f55d-1b899d6d5e0d"
      },
      "outputs": [
        {
          "output_type": "stream",
          "name": "stdout",
          "text": [
            "['negative' 'positive' 'neutral']\n"
          ]
        }
      ],
      "source": [
        "import pandas as pd\n",
        "\n",
        "unique_sentiments = df['label'].unique()\n",
        "print(unique_sentiments)"
      ]
    },
    {
      "cell_type": "code",
      "execution_count": null,
      "id": "ae6fec20",
      "metadata": {
        "execution": {
          "iopub.execute_input": "2023-11-19T00:10:48.187471Z",
          "iopub.status.busy": "2023-11-19T00:10:48.186802Z",
          "iopub.status.idle": "2023-11-19T00:10:48.194946Z",
          "shell.execute_reply": "2023-11-19T00:10:48.194334Z"
        },
        "papermill": {
          "duration": 0.029214,
          "end_time": "2023-11-19T00:10:48.196794",
          "exception": false,
          "start_time": "2023-11-19T00:10:48.167580",
          "status": "completed"
        },
        "tags": [],
        "colab": {
          "base_uri": "https://localhost:8080/",
          "height": 206
        },
        "id": "ae6fec20",
        "outputId": "7196091a-c095-496c-80b6-2f62e1e9bdf3"
      },
      "outputs": [
        {
          "output_type": "execute_result",
          "data": {
            "text/plain": [
              "                                             content     label\n",
              "0  @tiffanylue i know  i was listenin to bad habi...  negative\n",
              "1  Layin n bed with a headache  ughhhh...waitin o...  negative\n",
              "2                Funeral ceremony...gloomy friday...  negative\n",
              "3               wants to hang out with friends SOON!  positive\n",
              "4  @dannycastillo We want to trade with someone w...   neutral"
            ],
            "text/html": [
              "\n",
              "  <div id=\"df-0b0bb15b-e827-4c9a-9440-92bcab1c04ab\" class=\"colab-df-container\">\n",
              "    <div>\n",
              "<style scoped>\n",
              "    .dataframe tbody tr th:only-of-type {\n",
              "        vertical-align: middle;\n",
              "    }\n",
              "\n",
              "    .dataframe tbody tr th {\n",
              "        vertical-align: top;\n",
              "    }\n",
              "\n",
              "    .dataframe thead th {\n",
              "        text-align: right;\n",
              "    }\n",
              "</style>\n",
              "<table border=\"1\" class=\"dataframe\">\n",
              "  <thead>\n",
              "    <tr style=\"text-align: right;\">\n",
              "      <th></th>\n",
              "      <th>content</th>\n",
              "      <th>label</th>\n",
              "    </tr>\n",
              "  </thead>\n",
              "  <tbody>\n",
              "    <tr>\n",
              "      <th>0</th>\n",
              "      <td>@tiffanylue i know  i was listenin to bad habi...</td>\n",
              "      <td>negative</td>\n",
              "    </tr>\n",
              "    <tr>\n",
              "      <th>1</th>\n",
              "      <td>Layin n bed with a headache  ughhhh...waitin o...</td>\n",
              "      <td>negative</td>\n",
              "    </tr>\n",
              "    <tr>\n",
              "      <th>2</th>\n",
              "      <td>Funeral ceremony...gloomy friday...</td>\n",
              "      <td>negative</td>\n",
              "    </tr>\n",
              "    <tr>\n",
              "      <th>3</th>\n",
              "      <td>wants to hang out with friends SOON!</td>\n",
              "      <td>positive</td>\n",
              "    </tr>\n",
              "    <tr>\n",
              "      <th>4</th>\n",
              "      <td>@dannycastillo We want to trade with someone w...</td>\n",
              "      <td>neutral</td>\n",
              "    </tr>\n",
              "  </tbody>\n",
              "</table>\n",
              "</div>\n",
              "    <div class=\"colab-df-buttons\">\n",
              "\n",
              "  <div class=\"colab-df-container\">\n",
              "    <button class=\"colab-df-convert\" onclick=\"convertToInteractive('df-0b0bb15b-e827-4c9a-9440-92bcab1c04ab')\"\n",
              "            title=\"Convert this dataframe to an interactive table.\"\n",
              "            style=\"display:none;\">\n",
              "\n",
              "  <svg xmlns=\"http://www.w3.org/2000/svg\" height=\"24px\" viewBox=\"0 -960 960 960\">\n",
              "    <path d=\"M120-120v-720h720v720H120Zm60-500h600v-160H180v160Zm220 220h160v-160H400v160Zm0 220h160v-160H400v160ZM180-400h160v-160H180v160Zm440 0h160v-160H620v160ZM180-180h160v-160H180v160Zm440 0h160v-160H620v160Z\"/>\n",
              "  </svg>\n",
              "    </button>\n",
              "\n",
              "  <style>\n",
              "    .colab-df-container {\n",
              "      display:flex;\n",
              "      gap: 12px;\n",
              "    }\n",
              "\n",
              "    .colab-df-convert {\n",
              "      background-color: #E8F0FE;\n",
              "      border: none;\n",
              "      border-radius: 50%;\n",
              "      cursor: pointer;\n",
              "      display: none;\n",
              "      fill: #1967D2;\n",
              "      height: 32px;\n",
              "      padding: 0 0 0 0;\n",
              "      width: 32px;\n",
              "    }\n",
              "\n",
              "    .colab-df-convert:hover {\n",
              "      background-color: #E2EBFA;\n",
              "      box-shadow: 0px 1px 2px rgba(60, 64, 67, 0.3), 0px 1px 3px 1px rgba(60, 64, 67, 0.15);\n",
              "      fill: #174EA6;\n",
              "    }\n",
              "\n",
              "    .colab-df-buttons div {\n",
              "      margin-bottom: 4px;\n",
              "    }\n",
              "\n",
              "    [theme=dark] .colab-df-convert {\n",
              "      background-color: #3B4455;\n",
              "      fill: #D2E3FC;\n",
              "    }\n",
              "\n",
              "    [theme=dark] .colab-df-convert:hover {\n",
              "      background-color: #434B5C;\n",
              "      box-shadow: 0px 1px 3px 1px rgba(0, 0, 0, 0.15);\n",
              "      filter: drop-shadow(0px 1px 2px rgba(0, 0, 0, 0.3));\n",
              "      fill: #FFFFFF;\n",
              "    }\n",
              "  </style>\n",
              "\n",
              "    <script>\n",
              "      const buttonEl =\n",
              "        document.querySelector('#df-0b0bb15b-e827-4c9a-9440-92bcab1c04ab button.colab-df-convert');\n",
              "      buttonEl.style.display =\n",
              "        google.colab.kernel.accessAllowed ? 'block' : 'none';\n",
              "\n",
              "      async function convertToInteractive(key) {\n",
              "        const element = document.querySelector('#df-0b0bb15b-e827-4c9a-9440-92bcab1c04ab');\n",
              "        const dataTable =\n",
              "          await google.colab.kernel.invokeFunction('convertToInteractive',\n",
              "                                                    [key], {});\n",
              "        if (!dataTable) return;\n",
              "\n",
              "        const docLinkHtml = 'Like what you see? Visit the ' +\n",
              "          '<a target=\"_blank\" href=https://colab.research.google.com/notebooks/data_table.ipynb>data table notebook</a>'\n",
              "          + ' to learn more about interactive tables.';\n",
              "        element.innerHTML = '';\n",
              "        dataTable['output_type'] = 'display_data';\n",
              "        await google.colab.output.renderOutput(dataTable, element);\n",
              "        const docLink = document.createElement('div');\n",
              "        docLink.innerHTML = docLinkHtml;\n",
              "        element.appendChild(docLink);\n",
              "      }\n",
              "    </script>\n",
              "  </div>\n",
              "\n",
              "\n",
              "<div id=\"df-eaba3107-ae99-438d-92e0-e1be6ac91948\">\n",
              "  <button class=\"colab-df-quickchart\" onclick=\"quickchart('df-eaba3107-ae99-438d-92e0-e1be6ac91948')\"\n",
              "            title=\"Suggest charts\"\n",
              "            style=\"display:none;\">\n",
              "\n",
              "<svg xmlns=\"http://www.w3.org/2000/svg\" height=\"24px\"viewBox=\"0 0 24 24\"\n",
              "     width=\"24px\">\n",
              "    <g>\n",
              "        <path d=\"M19 3H5c-1.1 0-2 .9-2 2v14c0 1.1.9 2 2 2h14c1.1 0 2-.9 2-2V5c0-1.1-.9-2-2-2zM9 17H7v-7h2v7zm4 0h-2V7h2v10zm4 0h-2v-4h2v4z\"/>\n",
              "    </g>\n",
              "</svg>\n",
              "  </button>\n",
              "\n",
              "<style>\n",
              "  .colab-df-quickchart {\n",
              "      --bg-color: #E8F0FE;\n",
              "      --fill-color: #1967D2;\n",
              "      --hover-bg-color: #E2EBFA;\n",
              "      --hover-fill-color: #174EA6;\n",
              "      --disabled-fill-color: #AAA;\n",
              "      --disabled-bg-color: #DDD;\n",
              "  }\n",
              "\n",
              "  [theme=dark] .colab-df-quickchart {\n",
              "      --bg-color: #3B4455;\n",
              "      --fill-color: #D2E3FC;\n",
              "      --hover-bg-color: #434B5C;\n",
              "      --hover-fill-color: #FFFFFF;\n",
              "      --disabled-bg-color: #3B4455;\n",
              "      --disabled-fill-color: #666;\n",
              "  }\n",
              "\n",
              "  .colab-df-quickchart {\n",
              "    background-color: var(--bg-color);\n",
              "    border: none;\n",
              "    border-radius: 50%;\n",
              "    cursor: pointer;\n",
              "    display: none;\n",
              "    fill: var(--fill-color);\n",
              "    height: 32px;\n",
              "    padding: 0;\n",
              "    width: 32px;\n",
              "  }\n",
              "\n",
              "  .colab-df-quickchart:hover {\n",
              "    background-color: var(--hover-bg-color);\n",
              "    box-shadow: 0 1px 2px rgba(60, 64, 67, 0.3), 0 1px 3px 1px rgba(60, 64, 67, 0.15);\n",
              "    fill: var(--button-hover-fill-color);\n",
              "  }\n",
              "\n",
              "  .colab-df-quickchart-complete:disabled,\n",
              "  .colab-df-quickchart-complete:disabled:hover {\n",
              "    background-color: var(--disabled-bg-color);\n",
              "    fill: var(--disabled-fill-color);\n",
              "    box-shadow: none;\n",
              "  }\n",
              "\n",
              "  .colab-df-spinner {\n",
              "    border: 2px solid var(--fill-color);\n",
              "    border-color: transparent;\n",
              "    border-bottom-color: var(--fill-color);\n",
              "    animation:\n",
              "      spin 1s steps(1) infinite;\n",
              "  }\n",
              "\n",
              "  @keyframes spin {\n",
              "    0% {\n",
              "      border-color: transparent;\n",
              "      border-bottom-color: var(--fill-color);\n",
              "      border-left-color: var(--fill-color);\n",
              "    }\n",
              "    20% {\n",
              "      border-color: transparent;\n",
              "      border-left-color: var(--fill-color);\n",
              "      border-top-color: var(--fill-color);\n",
              "    }\n",
              "    30% {\n",
              "      border-color: transparent;\n",
              "      border-left-color: var(--fill-color);\n",
              "      border-top-color: var(--fill-color);\n",
              "      border-right-color: var(--fill-color);\n",
              "    }\n",
              "    40% {\n",
              "      border-color: transparent;\n",
              "      border-right-color: var(--fill-color);\n",
              "      border-top-color: var(--fill-color);\n",
              "    }\n",
              "    60% {\n",
              "      border-color: transparent;\n",
              "      border-right-color: var(--fill-color);\n",
              "    }\n",
              "    80% {\n",
              "      border-color: transparent;\n",
              "      border-right-color: var(--fill-color);\n",
              "      border-bottom-color: var(--fill-color);\n",
              "    }\n",
              "    90% {\n",
              "      border-color: transparent;\n",
              "      border-bottom-color: var(--fill-color);\n",
              "    }\n",
              "  }\n",
              "</style>\n",
              "\n",
              "  <script>\n",
              "    async function quickchart(key) {\n",
              "      const quickchartButtonEl =\n",
              "        document.querySelector('#' + key + ' button');\n",
              "      quickchartButtonEl.disabled = true;  // To prevent multiple clicks.\n",
              "      quickchartButtonEl.classList.add('colab-df-spinner');\n",
              "      try {\n",
              "        const charts = await google.colab.kernel.invokeFunction(\n",
              "            'suggestCharts', [key], {});\n",
              "      } catch (error) {\n",
              "        console.error('Error during call to suggestCharts:', error);\n",
              "      }\n",
              "      quickchartButtonEl.classList.remove('colab-df-spinner');\n",
              "      quickchartButtonEl.classList.add('colab-df-quickchart-complete');\n",
              "    }\n",
              "    (() => {\n",
              "      let quickchartButtonEl =\n",
              "        document.querySelector('#df-eaba3107-ae99-438d-92e0-e1be6ac91948 button');\n",
              "      quickchartButtonEl.style.display =\n",
              "        google.colab.kernel.accessAllowed ? 'block' : 'none';\n",
              "    })();\n",
              "  </script>\n",
              "</div>\n",
              "    </div>\n",
              "  </div>\n"
            ]
          },
          "metadata": {},
          "execution_count": 21
        }
      ],
      "source": [
        "df.head(5)"
      ]
    },
    {
      "cell_type": "code",
      "execution_count": null,
      "id": "6e71bf74",
      "metadata": {
        "execution": {
          "iopub.execute_input": "2023-11-19T00:10:48.263980Z",
          "iopub.status.busy": "2023-11-19T00:10:48.263361Z",
          "iopub.status.idle": "2023-11-19T00:10:48.276585Z",
          "shell.execute_reply": "2023-11-19T00:10:48.275192Z"
        },
        "papermill": {
          "duration": 0.058371,
          "end_time": "2023-11-19T00:10:48.282302",
          "exception": false,
          "start_time": "2023-11-19T00:10:48.223931",
          "status": "completed"
        },
        "tags": [],
        "colab": {
          "base_uri": "https://localhost:8080/"
        },
        "id": "6e71bf74",
        "outputId": "b81e3694-ce49-4adc-f47c-08e6648c395b"
      },
      "outputs": [
        {
          "output_type": "stream",
          "name": "stdout",
          "text": [
            "          Counts  Percentage\n",
            "negative   16024   40.234012\n",
            "positive   13024   32.701434\n",
            "neutral    10779   27.064554\n",
            "\n",
            "total values: 3\n"
          ]
        }
      ],
      "source": [
        "frequency_counts = df['label'].value_counts()\n",
        "\n",
        "frequency_percentage = (frequency_counts / len(df['label'])) * 100\n",
        "frequency_df = pd.DataFrame({'Counts': frequency_counts, 'Percentage': frequency_percentage})\n",
        "\n",
        "print(frequency_df)\n",
        "cardinality = df['label'].nunique()\n",
        "print(f\"\\ntotal values: {cardinality}\")"
      ]
    },
    {
      "cell_type": "code",
      "execution_count": null,
      "id": "4d29f46e",
      "metadata": {
        "execution": {
          "iopub.execute_input": "2023-11-19T00:10:48.330271Z",
          "iopub.status.busy": "2023-11-19T00:10:48.328702Z",
          "iopub.status.idle": "2023-11-19T00:10:48.511756Z",
          "shell.execute_reply": "2023-11-19T00:10:48.510321Z"
        },
        "papermill": {
          "duration": 0.206031,
          "end_time": "2023-11-19T00:10:48.514439",
          "exception": false,
          "start_time": "2023-11-19T00:10:48.308408",
          "status": "completed"
        },
        "tags": [],
        "colab": {
          "base_uri": "https://localhost:8080/",
          "height": 472
        },
        "id": "4d29f46e",
        "outputId": "589cfe0d-71c4-4b23-b179-b692cccfe3f3"
      },
      "outputs": [
        {
          "output_type": "display_data",
          "data": {
            "text/plain": [
              "<Figure size 640x480 with 1 Axes>"
            ],
            "image/png": "[encoded data removed]"
          },
          "metadata": {}
        }
      ],
      "source": [
        "sentiment_counts = df['label'].value_counts().sort_index()\n",
        "\n",
        "sentiments = sentiment_counts.index\n",
        "frequencies = sentiment_counts.values\n",
        "\n",
        "total = sum(frequencies)\n",
        "\n",
        "plt.barh(sentiments, frequencies, color='orange')\n",
        "plt.xlabel('Frequency')\n",
        "plt.ylabel('Sentiment')\n",
        "plt.title('Distribution of the combined classes (sentiment)')\n",
        "plt.gca().invert_yaxis()\n",
        "for index, value in enumerate(frequencies):\n",
        "    percentage = (value / total) * 100\n",
        "    plt.text(value - (max(frequencies) * 0.09), index, f'{percentage:.2f}%', ha='center', va='center', color='black')\n",
        "\n",
        "plt.show()"
      ]
    },
    {
      "cell_type": "code",
      "execution_count": null,
      "id": "d7f86a2c",
      "metadata": {
        "execution": {
          "iopub.execute_input": "2023-11-19T00:10:48.554703Z",
          "iopub.status.busy": "2023-11-19T00:10:48.554294Z",
          "iopub.status.idle": "2023-11-19T00:10:48.568734Z",
          "shell.execute_reply": "2023-11-19T00:10:48.567872Z"
        },
        "papermill": {
          "duration": 0.036927,
          "end_time": "2023-11-19T00:10:48.571118",
          "exception": false,
          "start_time": "2023-11-19T00:10:48.534191",
          "status": "completed"
        },
        "tags": [],
        "colab": {
          "base_uri": "https://localhost:8080/",
          "height": 206
        },
        "id": "d7f86a2c",
        "outputId": "a9897df3-67d1-4a43-ab5b-d3efa9322aca"
      },
      "outputs": [
        {
          "output_type": "execute_result",
          "data": {
            "text/plain": [
              "                                             content  label_num\n",
              "0  @tiffanylue i know  i was listenin to bad habi...          0\n",
              "1  Layin n bed with a headache  ughhhh...waitin o...          0\n",
              "2                Funeral ceremony...gloomy friday...          0\n",
              "3               wants to hang out with friends SOON!          1\n",
              "4  @dannycastillo We want to trade with someone w...          2"
            ],
            "text/html": [
              "\n",
              "  <div id=\"df-e8885e95-e0a3-406a-ac58-7c490c0176b2\" class=\"colab-df-container\">\n",
              "    <div>\n",
              "<style scoped>\n",
              "    .dataframe tbody tr th:only-of-type {\n",
              "        vertical-align: middle;\n",
              "    }\n",
              "\n",
              "    .dataframe tbody tr th {\n",
              "        vertical-align: top;\n",
              "    }\n",
              "\n",
              "    .dataframe thead th {\n",
              "        text-align: right;\n",
              "    }\n",
              "</style>\n",
              "<table border=\"1\" class=\"dataframe\">\n",
              "  <thead>\n",
              "    <tr style=\"text-align: right;\">\n",
              "      <th></th>\n",
              "      <th>content</th>\n",
              "      <th>label_num</th>\n",
              "    </tr>\n",
              "  </thead>\n",
              "  <tbody>\n",
              "    <tr>\n",
              "      <th>0</th>\n",
              "      <td>@tiffanylue i know  i was listenin to bad habi...</td>\n",
              "      <td>0</td>\n",
              "    </tr>\n",
              "    <tr>\n",
              "      <th>1</th>\n",
              "      <td>Layin n bed with a headache  ughhhh...waitin o...</td>\n",
              "      <td>0</td>\n",
              "    </tr>\n",
              "    <tr>\n",
              "      <th>2</th>\n",
              "      <td>Funeral ceremony...gloomy friday...</td>\n",
              "      <td>0</td>\n",
              "    </tr>\n",
              "    <tr>\n",
              "      <th>3</th>\n",
              "      <td>wants to hang out with friends SOON!</td>\n",
              "      <td>1</td>\n",
              "    </tr>\n",
              "    <tr>\n",
              "      <th>4</th>\n",
              "      <td>@dannycastillo We want to trade with someone w...</td>\n",
              "      <td>2</td>\n",
              "    </tr>\n",
              "  </tbody>\n",
              "</table>\n",
              "</div>\n",
              "    <div class=\"colab-df-buttons\">\n",
              "\n",
              "  <div class=\"colab-df-container\">\n",
              "    <button class=\"colab-df-convert\" onclick=\"convertToInteractive('df-e8885e95-e0a3-406a-ac58-7c490c0176b2')\"\n",
              "            title=\"Convert this dataframe to an interactive table.\"\n",
              "            style=\"display:none;\">\n",
              "\n",
              "  <svg xmlns=\"http://www.w3.org/2000/svg\" height=\"24px\" viewBox=\"0 -960 960 960\">\n",
              "    <path d=\"M120-120v-720h720v720H120Zm60-500h600v-160H180v160Zm220 220h160v-160H400v160Zm0 220h160v-160H400v160ZM180-400h160v-160H180v160Zm440 0h160v-160H620v160ZM180-180h160v-160H180v160Zm440 0h160v-160H620v160Z\"/>\n",
              "  </svg>\n",
              "    </button>\n",
              "\n",
              "  <style>\n",
              "    .colab-df-container {\n",
              "      display:flex;\n",
              "      gap: 12px;\n",
              "    }\n",
              "\n",
              "    .colab-df-convert {\n",
              "      background-color: #E8F0FE;\n",
              "      border: none;\n",
              "      border-radius: 50%;\n",
              "      cursor: pointer;\n",
              "      display: none;\n",
              "      fill: #1967D2;\n",
              "      height: 32px;\n",
              "      padding: 0 0 0 0;\n",
              "      width: 32px;\n",
              "    }\n",
              "\n",
              "    .colab-df-convert:hover {\n",
              "      background-color: #E2EBFA;\n",
              "      box-shadow: 0px 1px 2px rgba(60, 64, 67, 0.3), 0px 1px 3px 1px rgba(60, 64, 67, 0.15);\n",
              "      fill: #174EA6;\n",
              "    }\n",
              "\n",
              "    .colab-df-buttons div {\n",
              "      margin-bottom: 4px;\n",
              "    }\n",
              "\n",
              "    [theme=dark] .colab-df-convert {\n",
              "      background-color: #3B4455;\n",
              "      fill: #D2E3FC;\n",
              "    }\n",
              "\n",
              "    [theme=dark] .colab-df-convert:hover {\n",
              "      background-color: #434B5C;\n",
              "      box-shadow: 0px 1px 3px 1px rgba(0, 0, 0, 0.15);\n",
              "      filter: drop-shadow(0px 1px 2px rgba(0, 0, 0, 0.3));\n",
              "      fill: #FFFFFF;\n",
              "    }\n",
              "  </style>\n",
              "\n",
              "    <script>\n",
              "      const buttonEl =\n",
              "        document.querySelector('#df-e8885e95-e0a3-406a-ac58-7c490c0176b2 button.colab-df-convert');\n",
              "      buttonEl.style.display =\n",
              "        google.colab.kernel.accessAllowed ? 'block' : 'none';\n",
              "\n",
              "      async function convertToInteractive(key) {\n",
              "        const element = document.querySelector('#df-e8885e95-e0a3-406a-ac58-7c490c0176b2');\n",
              "        const dataTable =\n",
              "          await google.colab.kernel.invokeFunction('convertToInteractive',\n",
              "                                                    [key], {});\n",
              "        if (!dataTable) return;\n",
              "\n",
              "        const docLinkHtml = 'Like what you see? Visit the ' +\n",
              "          '<a target=\"_blank\" href=https://colab.research.google.com/notebooks/data_table.ipynb>data table notebook</a>'\n",
              "          + ' to learn more about interactive tables.';\n",
              "        element.innerHTML = '';\n",
              "        dataTable['output_type'] = 'display_data';\n",
              "        await google.colab.output.renderOutput(dataTable, element);\n",
              "        const docLink = document.createElement('div');\n",
              "        docLink.innerHTML = docLinkHtml;\n",
              "        element.appendChild(docLink);\n",
              "      }\n",
              "    </script>\n",
              "  </div>\n",
              "\n",
              "\n",
              "<div id=\"df-ac42b197-c48f-4bb9-8add-da60014add59\">\n",
              "  <button class=\"colab-df-quickchart\" onclick=\"quickchart('df-ac42b197-c48f-4bb9-8add-da60014add59')\"\n",
              "            title=\"Suggest charts\"\n",
              "            style=\"display:none;\">\n",
              "\n",
              "<svg xmlns=\"http://www.w3.org/2000/svg\" height=\"24px\"viewBox=\"0 0 24 24\"\n",
              "     width=\"24px\">\n",
              "    <g>\n",
              "        <path d=\"M19 3H5c-1.1 0-2 .9-2 2v14c0 1.1.9 2 2 2h14c1.1 0 2-.9 2-2V5c0-1.1-.9-2-2-2zM9 17H7v-7h2v7zm4 0h-2V7h2v10zm4 0h-2v-4h2v4z\"/>\n",
              "    </g>\n",
              "</svg>\n",
              "  </button>\n",
              "\n",
              "<style>\n",
              "  .colab-df-quickchart {\n",
              "      --bg-color: #E8F0FE;\n",
              "      --fill-color: #1967D2;\n",
              "      --hover-bg-color: #E2EBFA;\n",
              "      --hover-fill-color: #174EA6;\n",
              "      --disabled-fill-color: #AAA;\n",
              "      --disabled-bg-color: #DDD;\n",
              "  }\n",
              "\n",
              "  [theme=dark] .colab-df-quickchart {\n",
              "      --bg-color: #3B4455;\n",
              "      --fill-color: #D2E3FC;\n",
              "      --hover-bg-color: #434B5C;\n",
              "      --hover-fill-color: #FFFFFF;\n",
              "      --disabled-bg-color: #3B4455;\n",
              "      --disabled-fill-color: #666;\n",
              "  }\n",
              "\n",
              "  .colab-df-quickchart {\n",
              "    background-color: var(--bg-color);\n",
              "    border: none;\n",
              "    border-radius: 50%;\n",
              "    cursor: pointer;\n",
              "    display: none;\n",
              "    fill: var(--fill-color);\n",
              "    height: 32px;\n",
              "    padding: 0;\n",
              "    width: 32px;\n",
              "  }\n",
              "\n",
              "  .colab-df-quickchart:hover {\n",
              "    background-color: var(--hover-bg-color);\n",
              "    box-shadow: 0 1px 2px rgba(60, 64, 67, 0.3), 0 1px 3px 1px rgba(60, 64, 67, 0.15);\n",
              "    fill: var(--button-hover-fill-color);\n",
              "  }\n",
              "\n",
              "  .colab-df-quickchart-complete:disabled,\n",
              "  .colab-df-quickchart-complete:disabled:hover {\n",
              "    background-color: var(--disabled-bg-color);\n",
              "    fill: var(--disabled-fill-color);\n",
              "    box-shadow: none;\n",
              "  }\n",
              "\n",
              "  .colab-df-spinner {\n",
              "    border: 2px solid var(--fill-color);\n",
              "    border-color: transparent;\n",
              "    border-bottom-color: var(--fill-color);\n",
              "    animation:\n",
              "      spin 1s steps(1) infinite;\n",
              "  }\n",
              "\n",
              "  @keyframes spin {\n",
              "    0% {\n",
              "      border-color: transparent;\n",
              "      border-bottom-color: var(--fill-color);\n",
              "      border-left-color: var(--fill-color);\n",
              "    }\n",
              "    20% {\n",
              "      border-color: transparent;\n",
              "      border-left-color: var(--fill-color);\n",
              "      border-top-color: var(--fill-color);\n",
              "    }\n",
              "    30% {\n",
              "      border-color: transparent;\n",
              "      border-left-color: var(--fill-color);\n",
              "      border-top-color: var(--fill-color);\n",
              "      border-right-color: var(--fill-color);\n",
              "    }\n",
              "    40% {\n",
              "      border-color: transparent;\n",
              "      border-right-color: var(--fill-color);\n",
              "      border-top-color: var(--fill-color);\n",
              "    }\n",
              "    60% {\n",
              "      border-color: transparent;\n",
              "      border-right-color: var(--fill-color);\n",
              "    }\n",
              "    80% {\n",
              "      border-color: transparent;\n",
              "      border-right-color: var(--fill-color);\n",
              "      border-bottom-color: var(--fill-color);\n",
              "    }\n",
              "    90% {\n",
              "      border-color: transparent;\n",
              "      border-bottom-color: var(--fill-color);\n",
              "    }\n",
              "  }\n",
              "</style>\n",
              "\n",
              "  <script>\n",
              "    async function quickchart(key) {\n",
              "      const quickchartButtonEl =\n",
              "        document.querySelector('#' + key + ' button');\n",
              "      quickchartButtonEl.disabled = true;  // To prevent multiple clicks.\n",
              "      quickchartButtonEl.classList.add('colab-df-spinner');\n",
              "      try {\n",
              "        const charts = await google.colab.kernel.invokeFunction(\n",
              "            'suggestCharts', [key], {});\n",
              "      } catch (error) {\n",
              "        console.error('Error during call to suggestCharts:', error);\n",
              "      }\n",
              "      quickchartButtonEl.classList.remove('colab-df-spinner');\n",
              "      quickchartButtonEl.classList.add('colab-df-quickchart-complete');\n",
              "    }\n",
              "    (() => {\n",
              "      let quickchartButtonEl =\n",
              "        document.querySelector('#df-ac42b197-c48f-4bb9-8add-da60014add59 button');\n",
              "      quickchartButtonEl.style.display =\n",
              "        google.colab.kernel.accessAllowed ? 'block' : 'none';\n",
              "    })();\n",
              "  </script>\n",
              "</div>\n",
              "    </div>\n",
              "  </div>\n"
            ]
          },
          "metadata": {},
          "execution_count": 24
        }
      ],
      "source": [
        "df[\"label_num\"] = df.label.map({\n",
        "    'negative': 0,\n",
        "    'positive': 1,\n",
        "    'neutral': 2\n",
        "})\n",
        "\n",
        "df = df.drop(columns=['label'])\n",
        "df.head(5)"
      ]
    },
    {
      "cell_type": "code",
      "execution_count": null,
      "id": "d2f3c21e",
      "metadata": {
        "execution": {
          "iopub.execute_input": "2023-11-19T00:10:48.606380Z",
          "iopub.status.busy": "2023-11-19T00:10:48.605506Z",
          "iopub.status.idle": "2023-11-19T00:10:48.611414Z",
          "shell.execute_reply": "2023-11-19T00:10:48.610409Z"
        },
        "papermill": {
          "duration": 0.025057,
          "end_time": "2023-11-19T00:10:48.613134",
          "exception": false,
          "start_time": "2023-11-19T00:10:48.588077",
          "status": "completed"
        },
        "tags": [],
        "colab": {
          "base_uri": "https://localhost:8080/"
        },
        "id": "d2f3c21e",
        "outputId": "5674c3af-84e4-46a6-854e-f2f93cf95b46"
      },
      "outputs": [
        {
          "output_type": "stream",
          "name": "stdout",
          "text": [
            "39827\n",
            "39827\n"
          ]
        }
      ],
      "source": [
        "X = df['content']\n",
        "y = df['label_num']\n",
        "print(len(X))\n",
        "print(len(y))"
      ]
    },
    {
      "cell_type": "code",
      "execution_count": null,
      "id": "6b378ee1",
      "metadata": {
        "execution": {
          "iopub.execute_input": "2023-11-19T00:10:48.680357Z",
          "iopub.status.busy": "2023-11-19T00:10:48.679769Z",
          "iopub.status.idle": "2023-11-19T00:10:53.135814Z",
          "shell.execute_reply": "2023-11-19T00:10:53.133910Z"
        },
        "papermill": {
          "duration": 4.476663,
          "end_time": "2023-11-19T00:10:53.138896",
          "exception": false,
          "start_time": "2023-11-19T00:10:48.662233",
          "status": "completed"
        },
        "tags": [],
        "id": "6b378ee1"
      },
      "outputs": [],
      "source": [
        "cleaned = []\n",
        "\n",
        "for sen in range(0, len(X)):\n",
        "    document = re.sub(r'\\W', ' ', str(X[sen]))\n",
        "\n",
        "    document = re.sub(r'\\s+[a-zA-Z]\\s+', ' ', document)\n",
        "\n",
        "    document = re.sub(r'\\^[a-zA-Z]\\s+', ' ', document)\n",
        "\n",
        "    document = re.sub(r'\\s+', ' ', document, flags=re.I)\n",
        "\n",
        "    document = re.sub(r'^b\\s+', '', document)\n",
        "\n",
        "    document = document.lower()\n",
        "\n",
        "    document = document.split()\n",
        "\n",
        "    lemma = WordNetLemmatizer()\n",
        "    document = [lemma.lemmatize(word) for word in document]\n",
        "    document = ' '.join(document)\n",
        "    cleaned.append(document)"
      ]
    },
    {
      "cell_type": "code",
      "execution_count": null,
      "id": "ca56dee4",
      "metadata": {
        "execution": {
          "iopub.execute_input": "2023-11-19T00:10:53.177090Z",
          "iopub.status.busy": "2023-11-19T00:10:53.175552Z",
          "iopub.status.idle": "2023-11-19T00:10:53.182696Z",
          "shell.execute_reply": "2023-11-19T00:10:53.181687Z"
        },
        "papermill": {
          "duration": 0.027272,
          "end_time": "2023-11-19T00:10:53.184531",
          "exception": false,
          "start_time": "2023-11-19T00:10:53.157259",
          "status": "completed"
        },
        "tags": [],
        "colab": {
          "base_uri": "https://localhost:8080/"
        },
        "id": "ca56dee4",
        "outputId": "5405b711-29bf-4826-cfd5-6f9f8e327d26"
      },
      "outputs": [
        {
          "output_type": "execute_result",
          "data": {
            "text/plain": [
              "39827"
            ]
          },
          "metadata": {},
          "execution_count": 27
        }
      ],
      "source": [
        "len(cleaned)"
      ]
    },
    {
      "cell_type": "code",
      "execution_count": null,
      "id": "ff2a7b1f",
      "metadata": {
        "execution": {
          "iopub.execute_input": "2023-11-19T00:10:53.258103Z",
          "iopub.status.busy": "2023-11-19T00:10:53.257660Z",
          "iopub.status.idle": "2023-11-19T00:11:05.310846Z",
          "shell.execute_reply": "2023-11-19T00:11:05.309213Z"
        },
        "papermill": {
          "duration": 12.075178,
          "end_time": "2023-11-19T00:11:05.312856",
          "exception": false,
          "start_time": "2023-11-19T00:10:53.237678",
          "status": "completed"
        },
        "tags": [],
        "colab": {
          "base_uri": "https://localhost:8080/"
        },
        "id": "ff2a7b1f",
        "outputId": "341d8546-175a-49e0-814a-24d84cf19059"
      },
      "outputs": [
        {
          "output_type": "stream",
          "name": "stderr",
          "text": [
            "[nltk_data] Downloading package punkt to /root/nltk_data...\n",
            "[nltk_data]   Package punkt is already up-to-date!\n"
          ]
        }
      ],
      "source": [
        "nltk.download('punkt')\n",
        "def count_stopwords(text):\n",
        "    stop_words = set(stopwords.words(\"english\"))\n",
        "    words = nltk.word_tokenize(text)\n",
        "    return len(set(words) & stop_words)\n",
        "\n",
        "df['stop_words'] = df['content'].apply(count_stopwords)\n",
        "value_counts = df['stop_words'].value_counts()"
      ]
    },
    {
      "cell_type": "code",
      "execution_count": null,
      "id": "4518999d",
      "metadata": {
        "execution": {
          "iopub.execute_input": "2023-11-19T00:11:05.348470Z",
          "iopub.status.busy": "2023-11-19T00:11:05.347970Z",
          "iopub.status.idle": "2023-11-19T00:11:05.465026Z",
          "shell.execute_reply": "2023-11-19T00:11:05.463048Z"
        },
        "papermill": {
          "duration": 0.137269,
          "end_time": "2023-11-19T00:11:05.467136",
          "exception": false,
          "start_time": "2023-11-19T00:11:05.329867",
          "status": "completed"
        },
        "tags": [],
        "colab": {
          "base_uri": "https://localhost:8080/"
        },
        "id": "4518999d",
        "outputId": "87340ac9-efb9-4c0e-f666-d2e5937a39d1"
      },
      "outputs": [
        {
          "output_type": "stream",
          "name": "stdout",
          "text": [
            "                                                 content  label_num  \\\n",
            "0      @tiffanylue i know  i was listenin to bad habi...          0   \n",
            "1      Layin n bed with a headache  ughhhh...waitin o...          0   \n",
            "3                   wants to hang out with friends SOON!          1   \n",
            "4      @dannycastillo We want to trade with someone w...          2   \n",
            "5      Re-pinging @ghostridah14: why didn't you go to...          0   \n",
            "...                                                  ...        ...   \n",
            "39819  @jasimmo Ooo showing of your French skills!! l...          2   \n",
            "39820  @sendsome2me haha, yeah. Twitter has many uses...          2   \n",
            "39823                     Happy Mothers Day  All my love          1   \n",
            "39824  Happy Mother's Day to all the mommies out ther...          1   \n",
            "39826  @mopedronin bullet train from tokyo    the gf ...          1   \n",
            "\n",
            "       stop_words  \n",
            "0               6  \n",
            "1               4  \n",
            "3               3  \n",
            "4               6  \n",
            "5               5  \n",
            "...           ...  \n",
            "39819           6  \n",
            "39820          11  \n",
            "39823           1  \n",
            "39824          12  \n",
            "39826           6  \n",
            "\n",
            "[36279 rows x 3 columns]\n"
          ]
        }
      ],
      "source": [
        "temp = df.copy()\n",
        "stop_words = set(stopwords.words(\"english\"))\n",
        "temp['stop_words'] = temp['content'].apply(lambda x: len(set(x.split()) & stop_words))\n",
        "\n",
        "rows_with_stopwords = temp[temp['stop_words'] > 0]\n",
        "print(rows_with_stopwords)"
      ]
    },
    {
      "cell_type": "code",
      "execution_count": null,
      "id": "09f7e0bd",
      "metadata": {
        "execution": {
          "iopub.execute_input": "2023-11-19T00:11:05.505614Z",
          "iopub.status.busy": "2023-11-19T00:11:05.505140Z",
          "iopub.status.idle": "2023-11-19T00:11:05.513228Z",
          "shell.execute_reply": "2023-11-19T00:11:05.511844Z"
        },
        "papermill": {
          "duration": 0.030402,
          "end_time": "2023-11-19T00:11:05.515427",
          "exception": false,
          "start_time": "2023-11-19T00:11:05.485025",
          "status": "completed"
        },
        "tags": [],
        "colab": {
          "base_uri": "https://localhost:8080/",
          "height": 36
        },
        "id": "09f7e0bd",
        "outputId": "1ffb1aaa-bdd3-45b4-e470-a03d76d2a58c"
      },
      "outputs": [
        {
          "output_type": "execute_result",
          "data": {
            "text/plain": [
              "'wants to hang out with friends SOON!'"
            ],
            "application/vnd.google.colaboratory.intrinsic+json": {
              "type": "string"
            }
          },
          "metadata": {},
          "execution_count": 30
        }
      ],
      "source": [
        "df['content'][3]"
      ]
    },
    {
      "cell_type": "code",
      "execution_count": null,
      "id": "a53f02c7",
      "metadata": {
        "execution": {
          "iopub.execute_input": "2023-11-19T00:11:05.553556Z",
          "iopub.status.busy": "2023-11-19T00:11:05.553102Z",
          "iopub.status.idle": "2023-11-19T00:11:05.560565Z",
          "shell.execute_reply": "2023-11-19T00:11:05.559573Z"
        },
        "papermill": {
          "duration": 0.029199,
          "end_time": "2023-11-19T00:11:05.562410",
          "exception": false,
          "start_time": "2023-11-19T00:11:05.533211",
          "status": "completed"
        },
        "tags": [],
        "colab": {
          "base_uri": "https://localhost:8080/"
        },
        "id": "a53f02c7",
        "outputId": "8a6a4b0c-69eb-4d79-e741-b892ab3121bb"
      },
      "outputs": [
        {
          "output_type": "execute_result",
          "data": {
            "text/plain": [
              "3"
            ]
          },
          "metadata": {},
          "execution_count": 31
        }
      ],
      "source": [
        "stop_words = set(stopwords.words(\"english\"))\n",
        "df_indx = df['content'][3]\n",
        "stopword_count = len([word for word in df_indx.split() if word in stop_words])\n",
        "stopword_count"
      ]
    },
    {
      "cell_type": "code",
      "execution_count": null,
      "id": "291b371e",
      "metadata": {
        "execution": {
          "iopub.execute_input": "2023-11-19T00:11:05.599420Z",
          "iopub.status.busy": "2023-11-19T00:11:05.598878Z",
          "iopub.status.idle": "2023-11-19T00:11:05.607032Z",
          "shell.execute_reply": "2023-11-19T00:11:05.606039Z"
        },
        "papermill": {
          "duration": 0.02992,
          "end_time": "2023-11-19T00:11:05.609937",
          "exception": false,
          "start_time": "2023-11-19T00:11:05.580017",
          "status": "completed"
        },
        "tags": [],
        "colab": {
          "base_uri": "https://localhost:8080/",
          "height": 70
        },
        "id": "291b371e",
        "outputId": "c4a2d2be-23bd-4be8-9513-bae6aa31e8b2"
      },
      "outputs": [
        {
          "output_type": "stream",
          "name": "stdout",
          "text": [
            "Stopwords in df['content'][3]:\n",
            "['to', 'out', 'with']\n"
          ]
        },
        {
          "output_type": "execute_result",
          "data": {
            "text/plain": [
              "\"\\nThe cleaned sentence from 4th row, ['wants to hang out with friends SOON!']\\ncontains 3 stopwords, 'to', 'out', and 'with'\\n\""
            ],
            "application/vnd.google.colaboratory.intrinsic+json": {
              "type": "string"
            }
          },
          "metadata": {},
          "execution_count": 32
        }
      ],
      "source": [
        "stopwords_in_content = [word for word in df_indx.split() if word in stop_words]\n",
        "\n",
        "print(\"Stopwords in df['content'][3]:\")\n",
        "print(stopwords_in_content)"
      ]
    },
    {
      "cell_type": "code",
      "execution_count": null,
      "id": "c65f81f7",
      "metadata": {
        "execution": {
          "iopub.execute_input": "2023-11-19T00:11:05.687388Z",
          "iopub.status.busy": "2023-11-19T00:11:05.686933Z",
          "iopub.status.idle": "2023-11-19T00:11:06.287951Z",
          "shell.execute_reply": "2023-11-19T00:11:06.287148Z"
        },
        "papermill": {
          "duration": 0.62331,
          "end_time": "2023-11-19T00:11:06.289690",
          "exception": false,
          "start_time": "2023-11-19T00:11:05.666380",
          "status": "completed"
        },
        "tags": [],
        "colab": {
          "base_uri": "https://localhost:8080/"
        },
        "id": "c65f81f7",
        "outputId": "f6a665a1-cea2-46f3-b3f7-b209413d6316"
      },
      "outputs": [
        {
          "output_type": "stream",
          "name": "stdout",
          "text": [
            "<class 'list'>\n",
            "39827\n",
            "tiffanylue know wa listenin to bad habit earlier and started freakin at his part\n",
            "layin bed with headache ughhhh waitin on your call\n",
            "funeral ceremony gloomy friday\n",
            "want to hang out with friend soon\n",
            "dannycastillo we want to trade with someone who ha houston ticket but no one will\n",
            "re pinging ghostridah14 why didn you go to prom bc my bf didn like my friend\n",
            "i should be sleep but im not thinking about an old friend who want but he married now damn amp he want me 2 scandalous\n",
            "hmmm http www djhero com is down\n",
            "charviray charlene my love miss you\n",
            "kelcouch m sorry at least it friday\n",
            "cant fall asleep\n",
            "choked on her retainer\n",
            "ugh have to beat this stupid song to get to the next rude\n",
            "brodyjenner if watch the hill in london will realise what tourture it is because were week and week late just watch itonlinelol\n",
            "got the news\n"
          ]
        }
      ],
      "source": [
        "cleaned_tokenized = []\n",
        "for each in cleaned:\n",
        "    doc = sent_tokenize(each)\n",
        "    for sentence in doc:\n",
        "        cleaned_tokenized.append(sentence)\n",
        "\n",
        "print(type(cleaned_tokenized))\n",
        "print(len(cleaned_tokenized))\n",
        "\n",
        "for i in range(15):\n",
        "  print(cleaned_tokenized[i])"
      ]
    },
    {
      "cell_type": "code",
      "execution_count": null,
      "id": "6c436737",
      "metadata": {
        "execution": {
          "iopub.execute_input": "2023-11-19T00:11:06.326755Z",
          "iopub.status.busy": "2023-11-19T00:11:06.326227Z",
          "iopub.status.idle": "2023-11-19T00:11:06.339491Z",
          "shell.execute_reply": "2023-11-19T00:11:06.338410Z"
        },
        "papermill": {
          "duration": 0.034016,
          "end_time": "2023-11-19T00:11:06.341301",
          "exception": false,
          "start_time": "2023-11-19T00:11:06.307285",
          "status": "completed"
        },
        "tags": [],
        "id": "6c436737"
      },
      "outputs": [],
      "source": [
        "df['processed_content'] = cleaned_tokenized\n",
        "\n",
        "desired_order = ['content', 'processed_content', 'label_num']\n",
        "df = df[desired_order]\n",
        "df.head(10)\n",
        "\n",
        "X = cleaned_tokenized"
      ]
    },
    {
      "cell_type": "code",
      "execution_count": null,
      "id": "92512354",
      "metadata": {
        "execution": {
          "iopub.execute_input": "2023-11-19T00:11:06.378361Z",
          "iopub.status.busy": "2023-11-19T00:11:06.377403Z",
          "iopub.status.idle": "2023-11-19T00:11:06.385685Z",
          "shell.execute_reply": "2023-11-19T00:11:06.384919Z"
        },
        "papermill": {
          "duration": 0.028836,
          "end_time": "2023-11-19T00:11:06.387369",
          "exception": false,
          "start_time": "2023-11-19T00:11:06.358533",
          "status": "completed"
        },
        "tags": [],
        "colab": {
          "base_uri": "https://localhost:8080/"
        },
        "id": "92512354",
        "outputId": "5f379128-5c96-48c6-ead9-124585692213"
      },
      "outputs": [
        {
          "output_type": "execute_result",
          "data": {
            "text/plain": [
              "content              wants to hang out with friends SOON!\n",
              "processed_content       want to hang out with friend soon\n",
              "label_num                                               1\n",
              "Name: 3, dtype: object"
            ]
          },
          "metadata": {},
          "execution_count": 35
        }
      ],
      "source": [
        "df.loc[3]"
      ]
    },
    {
      "cell_type": "code",
      "execution_count": null,
      "id": "fd143169",
      "metadata": {
        "execution": {
          "iopub.execute_input": "2023-11-19T00:11:06.465861Z",
          "iopub.status.busy": "2023-11-19T00:11:06.465523Z",
          "iopub.status.idle": "2023-11-19T00:11:09.420107Z",
          "shell.execute_reply": "2023-11-19T00:11:09.419169Z"
        },
        "papermill": {
          "duration": 2.977626,
          "end_time": "2023-11-19T00:11:09.422860",
          "exception": false,
          "start_time": "2023-11-19T00:11:06.445234",
          "status": "completed"
        },
        "tags": [],
        "id": "fd143169"
      },
      "outputs": [],
      "source": [
        "count_vectorizer = CountVectorizer()\n",
        "count_vectorizer.fit_transform(X)\n",
        "freq_term_matrix = count_vectorizer.transform(X)\n",
        "\n",
        "tfidf = TfidfTransformer(norm = \"l2\")\n",
        "tfidf.fit(freq_term_matrix)\n",
        "tf_idf_matrix = tfidf.fit_transform(freq_term_matrix)\n",
        "dense_tf_idf_matrix = tf_idf_matrix.toarray()\n",
        "\n",
        "X_train, X_test, y_train, y_test = train_test_split(tf_idf_matrix, y, test_size=0.2, random_state=42)"
      ]
    },
    {
      "cell_type": "code",
      "execution_count": null,
      "id": "cad19ec8",
      "metadata": {
        "execution": {
          "iopub.execute_input": "2023-11-19T00:11:09.496535Z",
          "iopub.status.busy": "2023-11-19T00:11:09.496192Z",
          "iopub.status.idle": "2023-11-19T00:11:10.073276Z",
          "shell.execute_reply": "2023-11-19T00:11:10.072389Z"
        },
        "papermill": {
          "duration": 0.598125,
          "end_time": "2023-11-19T00:11:10.075159",
          "exception": false,
          "start_time": "2023-11-19T00:11:09.477034",
          "status": "completed"
        },
        "tags": [],
        "colab": {
          "base_uri": "https://localhost:8080/",
          "height": 980
        },
        "id": "cad19ec8",
        "outputId": "95feed95-eee0-49f0-f299-dfe6464a24d2"
      },
      "outputs": [
        {
          "output_type": "stream",
          "name": "stdout",
          "text": [
            "Classification Report (Cross-Validation):\n",
            "               precision    recall  f1-score   support\n",
            "\n",
            "           0       0.49      0.92      0.64     12834\n",
            "           1       0.63      0.45      0.53     10395\n",
            "           2       0.53      0.02      0.05      8632\n",
            "\n",
            "    accuracy                           0.53     31861\n",
            "   macro avg       0.55      0.47      0.41     31861\n",
            "weighted avg       0.55      0.53      0.44     31861\n",
            "\n",
            "Accuracy (Cross-Validation): 0.5254386240231004\n",
            "Classification Report (Test Data):\n",
            "               precision    recall  f1-score   support\n",
            "\n",
            "           0       0.49      0.91      0.64      3190\n",
            "           1       0.65      0.49      0.56      2629\n",
            "           2       0.50      0.03      0.05      2147\n",
            "\n",
            "    accuracy                           0.53      7966\n",
            "   macro avg       0.55      0.48      0.42      7966\n",
            "weighted avg       0.55      0.53      0.46      7966\n",
            "\n",
            "Accuracy (Test Data): 0.5333919156414763\n"
          ]
        },
        {
          "output_type": "display_data",
          "data": {
            "text/plain": [
              "<Figure size 800x600 with 1 Axes>"
            ],
            "image/png": "[encoded data removed]"
          },
          "metadata": {}
        }
      ],
      "source": [
        "model = MultinomialNB()\n",
        "\n",
        "model.fit(X_train, y_train)\n",
        "\n",
        "y_pred = model.predict(X_test)\n",
        "\n",
        "cv = StratifiedKFold(n_splits=5, shuffle=True, random_state=42)\n",
        "\n",
        "y_pred_cv = cross_val_predict(model, X_train, y_train, cv=cv)\n",
        "\n",
        "classification_rep = classification_report(y_train, y_pred_cv)\n",
        "print(\"Classification Report (Cross-Validation):\\n\", classification_rep)\n",
        "\n",
        "accuracy = accuracy_score(y_train, y_pred_cv)\n",
        "print(\"Accuracy (Cross-Validation):\", accuracy)\n",
        "\n",
        "model.fit(X_train, y_train)\n",
        "y_pred_test = model.predict(X_test)\n",
        "\n",
        "classification_rep_test = classification_report(y_test, y_pred_test)\n",
        "print(\"Classification Report (Test Data):\\n\", classification_rep_test)\n",
        "\n",
        "accuracy_test = accuracy_score(y_test, y_pred_test)\n",
        "print(\"Accuracy (Test Data):\", accuracy_test)\n",
        "\n",
        "import seaborn as sns\n",
        "import matplotlib.pyplot as plt\n",
        "from sklearn.metrics import confusion_matrix\n",
        "\n",
        "confusion_mat = confusion_matrix(y_test, y_pred)\n",
        "\n",
        "plt.figure(figsize=(8, 6))\n",
        "sns.heatmap(confusion_mat, annot=True, fmt='d', cmap='Blues', cbar=False)\n",
        "plt.xlabel('Predicted Labels')\n",
        "plt.ylabel('True Labels')\n",
        "plt.title('Confusion Matrix NB')\n",
        "plt.show()"
      ]
    },
    {
      "cell_type": "markdown",
      "id": "6f5a7857",
      "metadata": {
        "papermill": {
          "duration": 0.019466,
          "end_time": "2023-11-19T00:11:10.115333",
          "exception": false,
          "start_time": "2023-11-19T00:11:10.095867",
          "status": "completed"
        },
        "tags": [],
        "id": "6f5a7857"
      },
      "source": [
        "# [Model Training/Testing/Evaluation] MLP"
      ]
    },
    {
      "cell_type": "code",
      "execution_count": null,
      "id": "0d81e66a",
      "metadata": {
        "execution": {
          "iopub.execute_input": "2023-11-19T00:11:10.158507Z",
          "iopub.status.busy": "2023-11-19T00:11:10.158120Z",
          "iopub.status.idle": "2023-11-19T00:56:31.595365Z",
          "shell.execute_reply": "2023-11-19T00:56:31.594059Z"
        },
        "papermill": {
          "duration": 2721.461881,
          "end_time": "2023-11-19T00:56:31.597457",
          "exception": false,
          "start_time": "2023-11-19T00:11:10.135576",
          "status": "completed"
        },
        "tags": [],
        "colab": {
          "base_uri": "https://localhost:8080/",
          "height": 668
        },
        "id": "0d81e66a",
        "outputId": "58c73e64-744d-4a12-a5bc-24e032cbc858"
      },
      "outputs": [
        {
          "output_type": "stream",
          "name": "stderr",
          "text": [
            "/usr/local/lib/python3.10/dist-packages/sklearn/neural_network/_multilayer_perceptron.py:693: UserWarning: Training interrupted by user.\n",
            "  warnings.warn(\"Training interrupted by user.\")\n"
          ]
        },
        {
          "output_type": "stream",
          "name": "stdout",
          "text": [
            "Accuracy: 0.5216\n",
            "Precision: 0.5254\n",
            "Recall: 0.5216\n",
            "F1-score: 0.5223\n"
          ]
        },
        {
          "output_type": "display_data",
          "data": {
            "text/plain": [
              "<Figure size 1000x600 with 1 Axes>"
            ],
            "image/png": "[encoded data removed]"
          },
          "metadata": {}
        }
      ],
      "source": [
        "mlp_model = MLPClassifier(hidden_layer_sizes=(100, 100), alpha = 0.01, max_iter=100)\n",
        "\n",
        "history = mlp_model.fit(X_train, y_train)\n",
        "\n",
        "y_pred = mlp_model.predict(X_test)\n",
        "\n",
        "accuracy = accuracy_score(y_test, y_pred)\n",
        "precision = precision_score(y_test, y_pred, average='weighted')\n",
        "recall = recall_score(y_test, y_pred, average='weighted')\n",
        "f1 = f1_score(y_test, y_pred, average='weighted')\n",
        "\n",
        "print(f\"Accuracy: {accuracy:.4f}\")\n",
        "print(f\"Precision: {precision:.4f}\")\n",
        "print(f\"Recall: {recall:.4f}\")\n",
        "print(f\"F1-score: {f1:.4f}\")\n",
        "\n",
        "train_loss = history.loss_curve_\n",
        "num_epochs = len(train_loss)\n",
        "\n",
        "epochs = range(1, num_epochs + 1)\n",
        "\n",
        "plt.figure(figsize=(10, 6))\n",
        "plt.plot(epochs, train_loss, 'b', label='Training loss')\n",
        "plt.title('Training Loss Curve')\n",
        "plt.xlabel('Epochs')\n",
        "plt.ylabel('Loss')\n",
        "plt.legend()\n",
        "plt.grid(True)\n",
        "plt.show()"
      ]
    },
    {
      "cell_type": "markdown",
      "id": "bbdafc41",
      "metadata": {
        "papermill": {
          "duration": 0.01948,
          "end_time": "2023-11-19T00:56:31.638159",
          "exception": false,
          "start_time": "2023-11-19T00:56:31.618679",
          "status": "completed"
        },
        "tags": [],
        "id": "bbdafc41"
      },
      "source": [
        "# [Model Training/Testing/Evaluation] SVM"
      ]
    },
    {
      "cell_type": "code",
      "execution_count": null,
      "id": "6be8f28e",
      "metadata": {
        "execution": {
          "iopub.execute_input": "2023-11-19T00:56:31.679691Z",
          "iopub.status.busy": "2023-11-19T00:56:31.679218Z",
          "iopub.status.idle": "2023-11-19T01:02:35.066325Z",
          "shell.execute_reply": "2023-11-19T01:02:35.064930Z"
        },
        "papermill": {
          "duration": 363.428363,
          "end_time": "2023-11-19T01:02:35.086045",
          "exception": false,
          "start_time": "2023-11-19T00:56:31.657682",
          "status": "completed"
        },
        "tags": [],
        "id": "6be8f28e",
        "outputId": "287423a6-ae20-43f7-b0c8-045ba950c53a"
      },
      "outputs": [
        {
          "name": "stdout",
          "output_type": "stream",
          "text": [
            "Classification Report:\n",
            "               precision    recall  f1-score   support\n",
            "\n",
            "           0       0.60      0.75      0.67      3190\n",
            "           1       0.65      0.59      0.62      2629\n",
            "           2       0.48      0.35      0.41      2147\n",
            "\n",
            "    accuracy                           0.59      7966\n",
            "   macro avg       0.58      0.56      0.56      7966\n",
            "weighted avg       0.58      0.59      0.58      7966\n",
            "\n",
            "Accuracy: 0.5906351995982927\n"
          ]
        }
      ],
      "source": [
        "model = SVC()\n",
        "model.fit(X_train, y_train)\n",
        "\n",
        "y_pred = model.predict(X_test)\n",
        "\n",
        "classification_rep = classification_report(y_test, y_pred)\n",
        "print(\"Classification Report:\\n\", classification_rep)\n",
        "\n",
        "accuracy = accuracy_score(y_test, y_pred)\n",
        "print(\"Accuracy:\", accuracy)"
      ]
    }
  ],
  "metadata": {
    "kaggle": {
      "accelerator": "none",
      "dataSources": [
        {
          "datasetId": 1116138,
          "sourceId": 1874890,
          "sourceType": "datasetVersion"
        }
      ],
      "dockerImageVersionId": 30587,
      "isGpuEnabled": false,
      "isInternetEnabled": true,
      "language": "python",
      "sourceType": "notebook"
    },
    "kernelspec": {
      "display_name": "Python 3",
      "language": "python",
      "name": "python3"
    },
    "language_info": {
      "codemirror_mode": {
        "name": "ipython",
        "version": 3
      },
      "file_extension": ".py",
      "mimetype": "text/x-python",
      "name": "python",
      "nbconvert_exporter": "python",
      "pygments_lexer": "ipython3",
      "version": "3.10.12"
    },
    "papermill": {
      "default_parameters": {},
      "duration": 3146.576889,
      "end_time": "2023-11-19T01:02:36.532936",
      "environment_variables": {},
      "exception": null,
      "input_path": "__notebook__.ipynb",
      "output_path": "__notebook__.ipynb",
      "parameters": {},
      "start_time": "2023-11-19T00:10:09.956047",
      "version": "2.4.0"
    },
    "colab": {
      "provenance": [],
      "include_colab_link": true
    }
  },
  "nbformat": 4,
  "nbformat_minor": 5
}